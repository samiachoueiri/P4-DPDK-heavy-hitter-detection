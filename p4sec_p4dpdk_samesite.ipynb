{
 "cells": [
  {
   "cell_type": "markdown",
   "id": "4a1498e2-8abe-4ae2-99ee-46b19879d4cd",
   "metadata": {
    "jp-MarkdownHeadingCollapsed": true,
    "tags": []
   },
   "source": [
    "# Creating a network with a SmartNIC\n",
    "\n",
    "This Jupyter notebook will walk you through creating an experiment that contains a SmartNIC. The SmartNIC is Connectx-6, from NVIDIA (Mellanox). Specifically, the experiment deploys a slice with two nodes: one server with a SmartNIC connected to another server with a basic NIC.\n",
    "\n",
    "\n",
    "# Step 1:  Configure the Environment\n",
    "\n",
    "Before running this notebook, you will need to configure your environment using the [Configure Environment](./prepare_env.ipynb) notebook. Please stop here, open and run that notebook, then return to this notebook.\n",
    "\n",
    "If you are using the FABRIC JupyterHub many of the environment variables will be automatically configured for you.  You will still need to set your bastion username, upload your bastion private key, and set the path to where you put your bastion private key. Your bastion username and private key should already be in your possession.  \n",
    "\n",
    "If you are using the FABRIC API outside of the JupyterHub you will need to configure all of the environment variables. Defaults below will be correct in many situations but you will need to confirm your configuration.  If you have questions about this configuration, please contact the FABRIC admins using the [FABRIC User Forum](https://learn.fabric-testbed.net/forums/) \n",
    "\n",
    "More information about accessing your experiments through the FABRIC bastion hosts can be found [here](https://learn.fabric-testbed.net/knowledge-base/logging-into-fabric-vms/).\n",
    " "
   ]
  },
  {
   "cell_type": "markdown",
   "id": "863cac3b-937d-47fb-9c0b-58af33e5b545",
   "metadata": {
    "tags": []
   },
   "source": [
    "# Step 2: Import the FABlib Library"
   ]
  },
  {
   "cell_type": "code",
   "execution_count": 1,
   "id": "6aa85e85-eaf8-48ac-bb82-a1332380513f",
   "metadata": {},
   "outputs": [],
   "source": [
    "from fabrictestbed_extensions.fablib.fablib import FablibManager as fablib_manager\n",
    "fablib = fablib_manager()"
   ]
  },
  {
   "cell_type": "markdown",
   "id": "abbd4d0b-dd3c-4bb8-a773-5f2c7d0de215",
   "metadata": {
    "tags": []
   },
   "source": [
    "# Step 3: Create the Experiment Slice\n",
    "\n",
    "The following creates three node with basic compute and networking capabilities. You build a slice by creating a new slice and adding resources to the slice. After you build the slice, you must submit a request for the slice to be instantiated.   "
   ]
  },
  {
   "cell_type": "markdown",
   "id": "1ac2a84f-0eae-4942-a93f-c292e2be32f6",
   "metadata": {
    "tags": []
   },
   "source": [
    "### Step 3.1: Create a slice\n",
    "The code below creates a new slice"
   ]
  },
  {
   "cell_type": "code",
   "execution_count": 2,
   "id": "825b0a05-4b69-4df1-abc8-29f91ca62b08",
   "metadata": {
    "tags": []
   },
   "outputs": [],
   "source": [
    "slice = fablib.new_slice(name=\"p4sec_fabric_samesite\")\n",
    "#slice = fablib.get_slice(name=\"smartnic222\")"
   ]
  },
  {
   "cell_type": "markdown",
   "id": "88b7fa0f-14aa-49f1-bc63-9e143560cecf",
   "metadata": {
    "tags": []
   },
   "source": [
    "### Step 3.2: Define the sites\n",
    "The code below requests three sites from FABRIC: MICH, STAR, and NCSA"
   ]
  },
  {
   "cell_type": "markdown",
   "id": "599fb388-d8d5-4b5e-9703-a7425096f1c4",
   "metadata": {},
   "source": [
    "<img src=\"./figs/fabric_sites.png\" width=\"40%\"><br>"
   ]
  },
  {
   "cell_type": "code",
   "execution_count": 3,
   "id": "f94710b2-a57f-4c7e-9031-f82df3592fb5",
   "metadata": {
    "tags": []
   },
   "outputs": [
    {
     "name": "stdout",
     "output_type": "stream",
     "text": [
      "The selected sites are SEAT, SEAT, SEAT\n"
     ]
    }
   ],
   "source": [
    "# site1='FIU'\n",
    "# site2='FIU'\n",
    "\n",
    "cx5_column_name = 'nic_connectx_6_available'\n",
    "\n",
    "# find two sites with available ConnectX-5 \n",
    "# sites = fablib.get_random_sites(count=1, filter_function=lambda x: x[cx5_column_name] > 2)\n",
    "\n",
    "#site1 = sites[0]\n",
    "#site2 = sites[0]\n",
    "\n",
    "site = 'SEAT'\n",
    "site1= site\n",
    "site2= site\n",
    "site3= site\n",
    "\n",
    "\n",
    "print (f'The selected sites are {site1}, {site2}, {site3}') "
   ]
  },
  {
   "cell_type": "markdown",
   "id": "7a51f3ef-1db9-4eb5-95e0-73c580edec32",
   "metadata": {
    "tags": []
   },
   "source": [
    "### Step 3.3: Creating the nodes\n",
    "The code below creates three nodes: server1, switch, and server2. The servers (server1 and server2) use the following\n",
    "<ul>\n",
    "    <li> 4 CPU cores</li>\n",
    "    <li> 8GB RAM </li>\n",
    "    <li> 20GB disc size </li>\n",
    "    <li> Image: Ubuntu 20.04\n",
    "</ul>\n",
    "\n",
    "server1 will be created in site1 and server3 will be created in site3\n",
    "\n",
    "<img src=\"./figs/creating_nodes.PNG\" width=\"40%\"><br>"
   ]
  },
  {
   "cell_type": "code",
   "execution_count": 4,
   "id": "f8256615-eb4b-429b-98ca-2fda276ca50d",
   "metadata": {
    "tags": []
   },
   "outputs": [],
   "source": [
    "server1 = slice.add_node(name=\"server1\", \n",
    "                      site=site1, \n",
    "                      cores=24, \n",
    "                      ram=8, \n",
    "                      disk=20, \n",
    "                      image='default_ubuntu_20')\n",
    "\n",
    "server2 = slice.add_node(name=\"server2\", \n",
    "                      site=site2, \n",
    "                      cores=24, \n",
    "                      ram=8, \n",
    "                      disk=20, \n",
    "                      image='default_ubuntu_20')\n",
    "server3 = slice.add_node(name=\"server3\", \n",
    "                      site=site3, \n",
    "                      cores=24, \n",
    "                      ram=8, \n",
    "                      disk=20, \n",
    "                      image='default_ubuntu_20')"
   ]
  },
  {
   "cell_type": "markdown",
   "id": "8c5b106a-df0e-4a10-b870-c7b8143c727f",
   "metadata": {
    "tags": []
   },
   "source": [
    "### Step 3.4: Adding the interfaces to the servers\n",
    "The code below adds a Network Interface Card (NIC) to each server.\n",
    "\n",
    "<img src=\"./figs/adding_nics.PNG\" width=\"40%\"><br>"
   ]
  },
  {
   "cell_type": "code",
   "execution_count": 5,
   "id": "b6bbc9ac-d4de-41ac-9780-29896904054a",
   "metadata": {
    "tags": []
   },
   "outputs": [],
   "source": [
    "server1_iface = server1.add_component(model='NIC_ConnectX_6', name='nic').get_interfaces()[0]\n",
    "server21_iface = server2.add_component(model='NIC_ConnectX_6', name='nic2').get_interfaces()[0]\n",
    "server23_iface = server2.get_component(name='nic2').get_interfaces()[1]\n",
    "server3_iface = server3.add_component(model='NIC_ConnectX_6', name='nic3').get_interfaces()[0]"
   ]
  },
  {
   "cell_type": "code",
   "execution_count": 6,
   "id": "b1a24f38-ca96-4a0e-82ab-efa4b08ffcc3",
   "metadata": {},
   "outputs": [],
   "source": [
    "# print(server2.get_component(name='nic2').get_interfaces()[0])"
   ]
  },
  {
   "cell_type": "code",
   "execution_count": 7,
   "id": "fe916356-c83f-419b-89c5-4ebcbff65384",
   "metadata": {},
   "outputs": [],
   "source": [
    "# print(server2.get_component(name='nic2').get_interfaces()[1])"
   ]
  },
  {
   "cell_type": "markdown",
   "id": "01d90c97-a26b-4708-ac1e-76336723cc0e",
   "metadata": {},
   "source": [
    "### Step 3.5: Connecting site1 and site2 and site3\n",
    "Create a site-to-site network between site1 and site2 connecting server1 and the P4 switch\n",
    "\n",
    "<img src=\"./figs/connecting_nodes_server1_switch.PNG\" width=\"40%\"><br>"
   ]
  },
  {
   "cell_type": "code",
   "execution_count": 8,
   "id": "10390967-4806-48a9-96b9-e1b0a8294eee",
   "metadata": {},
   "outputs": [],
   "source": [
    "net1 = slice.add_l2network(name='net1', interfaces=[server1_iface, server21_iface])\n",
    "net2 = slice.add_l2network(name='net2', interfaces=[server23_iface, server3_iface])"
   ]
  },
  {
   "cell_type": "markdown",
   "id": "6d14ab1a-9a09-4f5b-966e-2f9699d9017b",
   "metadata": {},
   "source": [
    "### Step 3.6: Submitting the slice\n",
    "The code below submits the slice. \n",
    "By default, the submit function will block until the node is ready and will display the progress of your slice being built."
   ]
  },
  {
   "cell_type": "code",
   "execution_count": 9,
   "id": "5eeae3da-f74c-4218-b43b-f9f8ba54c644",
   "metadata": {},
   "outputs": [
    {
     "name": "stdout",
     "output_type": "stream",
     "text": [
      "\n",
      "Retry: 17, Time: 4018 sec\n"
     ]
    },
    {
     "data": {
      "text/html": [
       "<style type=\"text/css\">\n",
       "#T_7d9ec tr:nth-child(even) {\n",
       "  background: #dbf3ff;\n",
       "  color: #231f20;\n",
       "}\n",
       "#T_7d9ec tr:nth-child(odd) {\n",
       "  background: #ffffff;\n",
       "  color: #231f20;\n",
       "}\n",
       "#T_7d9ec caption {\n",
       "  text-align: center;\n",
       "  font-size: 150%;\n",
       "}\n",
       "#T_7d9ec_row0_col0, #T_7d9ec_row0_col1, #T_7d9ec_row1_col0, #T_7d9ec_row1_col1, #T_7d9ec_row2_col0, #T_7d9ec_row2_col1, #T_7d9ec_row3_col0, #T_7d9ec_row3_col1, #T_7d9ec_row4_col0, #T_7d9ec_row4_col1, #T_7d9ec_row5_col0 {\n",
       "  text-align: left;\n",
       "  border: 1px #231f20 solid !important;\n",
       "  overwrite: False;\n",
       "  background-color: ;\n",
       "}\n",
       "#T_7d9ec_row5_col1 {\n",
       "  text-align: left;\n",
       "  border: 1px #231f20 solid !important;\n",
       "  overwrite: False;\n",
       "  background-color: #c3ffc4;\n",
       "}\n",
       "</style>\n",
       "<table id=\"T_7d9ec\">\n",
       "  <caption>Slice</caption>\n",
       "  <thead>\n",
       "  </thead>\n",
       "  <tbody>\n",
       "    <tr>\n",
       "      <td id=\"T_7d9ec_row0_col0\" class=\"data row0 col0\" >ID</td>\n",
       "      <td id=\"T_7d9ec_row0_col1\" class=\"data row0 col1\" >9cd180a2-19cb-41a7-b23d-ed864f606cdc</td>\n",
       "    </tr>\n",
       "    <tr>\n",
       "      <td id=\"T_7d9ec_row1_col0\" class=\"data row1 col0\" >Name</td>\n",
       "      <td id=\"T_7d9ec_row1_col1\" class=\"data row1 col1\" >p4sec_fabric_samesite</td>\n",
       "    </tr>\n",
       "    <tr>\n",
       "      <td id=\"T_7d9ec_row2_col0\" class=\"data row2 col0\" >Lease Expiration (UTC)</td>\n",
       "      <td id=\"T_7d9ec_row2_col1\" class=\"data row2 col1\" >2024-04-02 15:47:56 +0000</td>\n",
       "    </tr>\n",
       "    <tr>\n",
       "      <td id=\"T_7d9ec_row3_col0\" class=\"data row3 col0\" >Lease Start (UTC)</td>\n",
       "      <td id=\"T_7d9ec_row3_col1\" class=\"data row3 col1\" >2024-04-01 15:47:57 +0000</td>\n",
       "    </tr>\n",
       "    <tr>\n",
       "      <td id=\"T_7d9ec_row4_col0\" class=\"data row4 col0\" >Project ID</td>\n",
       "      <td id=\"T_7d9ec_row4_col1\" class=\"data row4 col1\" >8eaa3ec2-65e7-49a3-8c09-e1761141a6ad</td>\n",
       "    </tr>\n",
       "    <tr>\n",
       "      <td id=\"T_7d9ec_row5_col0\" class=\"data row5 col0\" >State</td>\n",
       "      <td id=\"T_7d9ec_row5_col1\" class=\"data row5 col1\" >StableOK</td>\n",
       "    </tr>\n",
       "  </tbody>\n",
       "</table>\n"
      ],
      "text/plain": [
       "<pandas.io.formats.style.Styler at 0x7fd36c776710>"
      ]
     },
     "metadata": {},
     "output_type": "display_data"
    },
    {
     "data": {
      "text/html": [
       "<style type=\"text/css\">\n",
       "#T_33ba2 caption {\n",
       "  text-align: center;\n",
       "  font-size: 150%;\n",
       "  caption-side: top;\n",
       "}\n",
       "#T_33ba2 th {\n",
       "  text-align: left;\n",
       "}\n",
       "#T_33ba2 tr:nth-child(even) {\n",
       "  background: #ffffff;\n",
       "  color: #231f20;\n",
       "}\n",
       "#T_33ba2 tr:nth-child(odd) {\n",
       "  background: #dbf3ff;\n",
       "  color: #231f20;\n",
       "}\n",
       "#T_33ba2 .level0 {\n",
       "  border: 1px black solid !important;\n",
       "  background: #ffffff;\n",
       "  color: #231f20;\n",
       "}\n",
       "#T_33ba2_row0_col0, #T_33ba2_row0_col1, #T_33ba2_row0_col2, #T_33ba2_row0_col3, #T_33ba2_row0_col4, #T_33ba2_row0_col5, #T_33ba2_row0_col6, #T_33ba2_row0_col7, #T_33ba2_row0_col8, #T_33ba2_row0_col9, #T_33ba2_row0_col10, #T_33ba2_row0_col13, #T_33ba2_row0_col14, #T_33ba2_row0_col15, #T_33ba2_row1_col0, #T_33ba2_row1_col1, #T_33ba2_row1_col2, #T_33ba2_row1_col3, #T_33ba2_row1_col4, #T_33ba2_row1_col5, #T_33ba2_row1_col6, #T_33ba2_row1_col7, #T_33ba2_row1_col8, #T_33ba2_row1_col9, #T_33ba2_row1_col10, #T_33ba2_row1_col13, #T_33ba2_row1_col14, #T_33ba2_row1_col15, #T_33ba2_row2_col0, #T_33ba2_row2_col1, #T_33ba2_row2_col2, #T_33ba2_row2_col3, #T_33ba2_row2_col4, #T_33ba2_row2_col5, #T_33ba2_row2_col6, #T_33ba2_row2_col7, #T_33ba2_row2_col8, #T_33ba2_row2_col9, #T_33ba2_row2_col10, #T_33ba2_row2_col13, #T_33ba2_row2_col14, #T_33ba2_row2_col15 {\n",
       "  text-align: left;\n",
       "  border: 1px #231f20 solid !important;\n",
       "  overwrite: False;\n",
       "}\n",
       "#T_33ba2_row0_col11, #T_33ba2_row1_col11, #T_33ba2_row2_col11 {\n",
       "  text-align: left;\n",
       "  border: 1px #231f20 solid !important;\n",
       "  overwrite: False;\n",
       "  background-color: #c3ffc4;\n",
       "}\n",
       "#T_33ba2_row0_col12, #T_33ba2_row1_col12, #T_33ba2_row2_col12 {\n",
       "  text-align: left;\n",
       "  border: 1px #231f20 solid !important;\n",
       "  overwrite: False;\n",
       "  background-color: ;\n",
       "}\n",
       "</style>\n",
       "<table id=\"T_33ba2\">\n",
       "  <caption>Nodes</caption>\n",
       "  <thead>\n",
       "    <tr>\n",
       "      <th id=\"T_33ba2_level0_col0\" class=\"col_heading level0 col0\" >ID</th>\n",
       "      <th id=\"T_33ba2_level0_col1\" class=\"col_heading level0 col1\" >Name</th>\n",
       "      <th id=\"T_33ba2_level0_col2\" class=\"col_heading level0 col2\" >Cores</th>\n",
       "      <th id=\"T_33ba2_level0_col3\" class=\"col_heading level0 col3\" >RAM</th>\n",
       "      <th id=\"T_33ba2_level0_col4\" class=\"col_heading level0 col4\" >Disk</th>\n",
       "      <th id=\"T_33ba2_level0_col5\" class=\"col_heading level0 col5\" >Image</th>\n",
       "      <th id=\"T_33ba2_level0_col6\" class=\"col_heading level0 col6\" >Image Type</th>\n",
       "      <th id=\"T_33ba2_level0_col7\" class=\"col_heading level0 col7\" >Host</th>\n",
       "      <th id=\"T_33ba2_level0_col8\" class=\"col_heading level0 col8\" >Site</th>\n",
       "      <th id=\"T_33ba2_level0_col9\" class=\"col_heading level0 col9\" >Username</th>\n",
       "      <th id=\"T_33ba2_level0_col10\" class=\"col_heading level0 col10\" >Management IP</th>\n",
       "      <th id=\"T_33ba2_level0_col11\" class=\"col_heading level0 col11\" >State</th>\n",
       "      <th id=\"T_33ba2_level0_col12\" class=\"col_heading level0 col12\" >Error</th>\n",
       "      <th id=\"T_33ba2_level0_col13\" class=\"col_heading level0 col13\" >SSH Command</th>\n",
       "      <th id=\"T_33ba2_level0_col14\" class=\"col_heading level0 col14\" >Public SSH Key File</th>\n",
       "      <th id=\"T_33ba2_level0_col15\" class=\"col_heading level0 col15\" >Private SSH Key File</th>\n",
       "    </tr>\n",
       "  </thead>\n",
       "  <tbody>\n",
       "    <tr>\n",
       "      <td id=\"T_33ba2_row0_col0\" class=\"data row0 col0\" >e6792304-760d-43b2-9339-7ff84c9f4f2c</td>\n",
       "      <td id=\"T_33ba2_row0_col1\" class=\"data row0 col1\" >server1</td>\n",
       "      <td id=\"T_33ba2_row0_col2\" class=\"data row0 col2\" >24</td>\n",
       "      <td id=\"T_33ba2_row0_col3\" class=\"data row0 col3\" >8</td>\n",
       "      <td id=\"T_33ba2_row0_col4\" class=\"data row0 col4\" >100</td>\n",
       "      <td id=\"T_33ba2_row0_col5\" class=\"data row0 col5\" >default_ubuntu_20</td>\n",
       "      <td id=\"T_33ba2_row0_col6\" class=\"data row0 col6\" >qcow2</td>\n",
       "      <td id=\"T_33ba2_row0_col7\" class=\"data row0 col7\" >seat-w1.fabric-testbed.net</td>\n",
       "      <td id=\"T_33ba2_row0_col8\" class=\"data row0 col8\" >SEAT</td>\n",
       "      <td id=\"T_33ba2_row0_col9\" class=\"data row0 col9\" >ubuntu</td>\n",
       "      <td id=\"T_33ba2_row0_col10\" class=\"data row0 col10\" >2001:400:a100:3080:f816:3eff:fed9:d0f2</td>\n",
       "      <td id=\"T_33ba2_row0_col11\" class=\"data row0 col11\" >Active</td>\n",
       "      <td id=\"T_33ba2_row0_col12\" class=\"data row0 col12\" ></td>\n",
       "      <td id=\"T_33ba2_row0_col13\" class=\"data row0 col13\" >ssh -i /home/fabric/work/fabric_config/slice_key -F /home/fabric/work/fabric_config/ssh_config ubuntu@2001:400:a100:3080:f816:3eff:fed9:d0f2</td>\n",
       "      <td id=\"T_33ba2_row0_col14\" class=\"data row0 col14\" >/home/fabric/work/fabric_config/slice_key.pub</td>\n",
       "      <td id=\"T_33ba2_row0_col15\" class=\"data row0 col15\" >/home/fabric/work/fabric_config/slice_key</td>\n",
       "    </tr>\n",
       "    <tr>\n",
       "      <td id=\"T_33ba2_row1_col0\" class=\"data row1 col0\" >ee617c2d-e768-4f5e-955a-6e4a0238a449</td>\n",
       "      <td id=\"T_33ba2_row1_col1\" class=\"data row1 col1\" >server2</td>\n",
       "      <td id=\"T_33ba2_row1_col2\" class=\"data row1 col2\" >24</td>\n",
       "      <td id=\"T_33ba2_row1_col3\" class=\"data row1 col3\" >8</td>\n",
       "      <td id=\"T_33ba2_row1_col4\" class=\"data row1 col4\" >100</td>\n",
       "      <td id=\"T_33ba2_row1_col5\" class=\"data row1 col5\" >default_ubuntu_20</td>\n",
       "      <td id=\"T_33ba2_row1_col6\" class=\"data row1 col6\" >qcow2</td>\n",
       "      <td id=\"T_33ba2_row1_col7\" class=\"data row1 col7\" >seat-w1.fabric-testbed.net</td>\n",
       "      <td id=\"T_33ba2_row1_col8\" class=\"data row1 col8\" >SEAT</td>\n",
       "      <td id=\"T_33ba2_row1_col9\" class=\"data row1 col9\" >ubuntu</td>\n",
       "      <td id=\"T_33ba2_row1_col10\" class=\"data row1 col10\" >2001:400:a100:3080:f816:3eff:fee0:d0d6</td>\n",
       "      <td id=\"T_33ba2_row1_col11\" class=\"data row1 col11\" >Active</td>\n",
       "      <td id=\"T_33ba2_row1_col12\" class=\"data row1 col12\" ></td>\n",
       "      <td id=\"T_33ba2_row1_col13\" class=\"data row1 col13\" >ssh -i /home/fabric/work/fabric_config/slice_key -F /home/fabric/work/fabric_config/ssh_config ubuntu@2001:400:a100:3080:f816:3eff:fee0:d0d6</td>\n",
       "      <td id=\"T_33ba2_row1_col14\" class=\"data row1 col14\" >/home/fabric/work/fabric_config/slice_key.pub</td>\n",
       "      <td id=\"T_33ba2_row1_col15\" class=\"data row1 col15\" >/home/fabric/work/fabric_config/slice_key</td>\n",
       "    </tr>\n",
       "    <tr>\n",
       "      <td id=\"T_33ba2_row2_col0\" class=\"data row2 col0\" >18f5e112-c805-4580-94eb-bf13f903e00d</td>\n",
       "      <td id=\"T_33ba2_row2_col1\" class=\"data row2 col1\" >server3</td>\n",
       "      <td id=\"T_33ba2_row2_col2\" class=\"data row2 col2\" >24</td>\n",
       "      <td id=\"T_33ba2_row2_col3\" class=\"data row2 col3\" >8</td>\n",
       "      <td id=\"T_33ba2_row2_col4\" class=\"data row2 col4\" >100</td>\n",
       "      <td id=\"T_33ba2_row2_col5\" class=\"data row2 col5\" >default_ubuntu_20</td>\n",
       "      <td id=\"T_33ba2_row2_col6\" class=\"data row2 col6\" >qcow2</td>\n",
       "      <td id=\"T_33ba2_row2_col7\" class=\"data row2 col7\" >seat-w1.fabric-testbed.net</td>\n",
       "      <td id=\"T_33ba2_row2_col8\" class=\"data row2 col8\" >SEAT</td>\n",
       "      <td id=\"T_33ba2_row2_col9\" class=\"data row2 col9\" >ubuntu</td>\n",
       "      <td id=\"T_33ba2_row2_col10\" class=\"data row2 col10\" >2001:400:a100:3080:f816:3eff:fe88:dd85</td>\n",
       "      <td id=\"T_33ba2_row2_col11\" class=\"data row2 col11\" >Active</td>\n",
       "      <td id=\"T_33ba2_row2_col12\" class=\"data row2 col12\" ></td>\n",
       "      <td id=\"T_33ba2_row2_col13\" class=\"data row2 col13\" >ssh -i /home/fabric/work/fabric_config/slice_key -F /home/fabric/work/fabric_config/ssh_config ubuntu@2001:400:a100:3080:f816:3eff:fe88:dd85</td>\n",
       "      <td id=\"T_33ba2_row2_col14\" class=\"data row2 col14\" >/home/fabric/work/fabric_config/slice_key.pub</td>\n",
       "      <td id=\"T_33ba2_row2_col15\" class=\"data row2 col15\" >/home/fabric/work/fabric_config/slice_key</td>\n",
       "    </tr>\n",
       "  </tbody>\n",
       "</table>\n"
      ],
      "text/plain": [
       "<pandas.io.formats.style.Styler at 0x7fd36c53d000>"
      ]
     },
     "metadata": {},
     "output_type": "display_data"
    },
    {
     "data": {
      "text/html": [
       "<style type=\"text/css\">\n",
       "#T_fb445 caption {\n",
       "  text-align: center;\n",
       "  font-size: 150%;\n",
       "  caption-side: top;\n",
       "}\n",
       "#T_fb445 th {\n",
       "  text-align: left;\n",
       "}\n",
       "#T_fb445 tr:nth-child(even) {\n",
       "  background: #ffffff;\n",
       "  color: #231f20;\n",
       "}\n",
       "#T_fb445 tr:nth-child(odd) {\n",
       "  background: #dbf3ff;\n",
       "  color: #231f20;\n",
       "}\n",
       "#T_fb445 .level0 {\n",
       "  border: 1px black solid !important;\n",
       "  background: #ffffff;\n",
       "  color: #231f20;\n",
       "}\n",
       "#T_fb445_row0_col0, #T_fb445_row0_col1, #T_fb445_row0_col2, #T_fb445_row0_col3, #T_fb445_row0_col4, #T_fb445_row0_col5, #T_fb445_row0_col6, #T_fb445_row1_col0, #T_fb445_row1_col1, #T_fb445_row1_col2, #T_fb445_row1_col3, #T_fb445_row1_col4, #T_fb445_row1_col5, #T_fb445_row1_col6 {\n",
       "  text-align: left;\n",
       "  border: 1px #231f20 solid !important;\n",
       "  overwrite: False;\n",
       "}\n",
       "#T_fb445_row0_col7, #T_fb445_row1_col7 {\n",
       "  text-align: left;\n",
       "  border: 1px #231f20 solid !important;\n",
       "  overwrite: False;\n",
       "  background-color: #c3ffc4;\n",
       "}\n",
       "#T_fb445_row0_col8, #T_fb445_row1_col8 {\n",
       "  text-align: left;\n",
       "  border: 1px #231f20 solid !important;\n",
       "  overwrite: False;\n",
       "  background-color: ;\n",
       "}\n",
       "</style>\n",
       "<table id=\"T_fb445\">\n",
       "  <caption>Networks</caption>\n",
       "  <thead>\n",
       "    <tr>\n",
       "      <th id=\"T_fb445_level0_col0\" class=\"col_heading level0 col0\" >ID</th>\n",
       "      <th id=\"T_fb445_level0_col1\" class=\"col_heading level0 col1\" >Name</th>\n",
       "      <th id=\"T_fb445_level0_col2\" class=\"col_heading level0 col2\" >Layer</th>\n",
       "      <th id=\"T_fb445_level0_col3\" class=\"col_heading level0 col3\" >Type</th>\n",
       "      <th id=\"T_fb445_level0_col4\" class=\"col_heading level0 col4\" >Site</th>\n",
       "      <th id=\"T_fb445_level0_col5\" class=\"col_heading level0 col5\" >Subnet</th>\n",
       "      <th id=\"T_fb445_level0_col6\" class=\"col_heading level0 col6\" >Gateway</th>\n",
       "      <th id=\"T_fb445_level0_col7\" class=\"col_heading level0 col7\" >State</th>\n",
       "      <th id=\"T_fb445_level0_col8\" class=\"col_heading level0 col8\" >Error</th>\n",
       "    </tr>\n",
       "  </thead>\n",
       "  <tbody>\n",
       "    <tr>\n",
       "      <td id=\"T_fb445_row0_col0\" class=\"data row0 col0\" >87d698ff-468c-4aec-a6dd-bdc538dce3b5</td>\n",
       "      <td id=\"T_fb445_row0_col1\" class=\"data row0 col1\" >net1</td>\n",
       "      <td id=\"T_fb445_row0_col2\" class=\"data row0 col2\" >L2</td>\n",
       "      <td id=\"T_fb445_row0_col3\" class=\"data row0 col3\" >L2Bridge</td>\n",
       "      <td id=\"T_fb445_row0_col4\" class=\"data row0 col4\" >SEAT</td>\n",
       "      <td id=\"T_fb445_row0_col5\" class=\"data row0 col5\" >None</td>\n",
       "      <td id=\"T_fb445_row0_col6\" class=\"data row0 col6\" >None</td>\n",
       "      <td id=\"T_fb445_row0_col7\" class=\"data row0 col7\" >Active</td>\n",
       "      <td id=\"T_fb445_row0_col8\" class=\"data row0 col8\" ></td>\n",
       "    </tr>\n",
       "    <tr>\n",
       "      <td id=\"T_fb445_row1_col0\" class=\"data row1 col0\" >443e8ffd-e883-4451-9c2e-2ddedb9676a2</td>\n",
       "      <td id=\"T_fb445_row1_col1\" class=\"data row1 col1\" >net2</td>\n",
       "      <td id=\"T_fb445_row1_col2\" class=\"data row1 col2\" >L2</td>\n",
       "      <td id=\"T_fb445_row1_col3\" class=\"data row1 col3\" >L2Bridge</td>\n",
       "      <td id=\"T_fb445_row1_col4\" class=\"data row1 col4\" >SEAT</td>\n",
       "      <td id=\"T_fb445_row1_col5\" class=\"data row1 col5\" >None</td>\n",
       "      <td id=\"T_fb445_row1_col6\" class=\"data row1 col6\" >None</td>\n",
       "      <td id=\"T_fb445_row1_col7\" class=\"data row1 col7\" >Active</td>\n",
       "      <td id=\"T_fb445_row1_col8\" class=\"data row1 col8\" ></td>\n",
       "    </tr>\n",
       "  </tbody>\n",
       "</table>\n"
      ],
      "text/plain": [
       "<pandas.io.formats.style.Styler at 0x7fd36c7585e0>"
      ]
     },
     "metadata": {},
     "output_type": "display_data"
    },
    {
     "data": {
      "text/html": [
       "<style type=\"text/css\">\n",
       "#T_9c5e8 caption {\n",
       "  text-align: center;\n",
       "  font-size: 150%;\n",
       "  caption-side: top;\n",
       "}\n",
       "#T_9c5e8 th {\n",
       "  text-align: left;\n",
       "}\n",
       "#T_9c5e8 tr:nth-child(even) {\n",
       "  background: #ffffff;\n",
       "  color: #231f20;\n",
       "}\n",
       "#T_9c5e8 tr:nth-child(odd) {\n",
       "  background: #dbf3ff;\n",
       "  color: #231f20;\n",
       "}\n",
       "#T_9c5e8 .level0 {\n",
       "  border: 1px black solid !important;\n",
       "  background: #ffffff;\n",
       "  color: #231f20;\n",
       "}\n",
       "#T_9c5e8_row0_col0, #T_9c5e8_row0_col1, #T_9c5e8_row0_col2, #T_9c5e8_row0_col3, #T_9c5e8_row0_col4, #T_9c5e8_row0_col5, #T_9c5e8_row0_col6, #T_9c5e8_row0_col7, #T_9c5e8_row0_col8, #T_9c5e8_row0_col9, #T_9c5e8_row0_col10, #T_9c5e8_row0_col11, #T_9c5e8_row1_col0, #T_9c5e8_row1_col1, #T_9c5e8_row1_col2, #T_9c5e8_row1_col3, #T_9c5e8_row1_col4, #T_9c5e8_row1_col5, #T_9c5e8_row1_col6, #T_9c5e8_row1_col7, #T_9c5e8_row1_col8, #T_9c5e8_row1_col9, #T_9c5e8_row1_col10, #T_9c5e8_row1_col11, #T_9c5e8_row2_col0, #T_9c5e8_row2_col1, #T_9c5e8_row2_col2, #T_9c5e8_row2_col3, #T_9c5e8_row2_col4, #T_9c5e8_row2_col5, #T_9c5e8_row2_col6, #T_9c5e8_row2_col7, #T_9c5e8_row2_col8, #T_9c5e8_row2_col9, #T_9c5e8_row2_col10, #T_9c5e8_row2_col11, #T_9c5e8_row3_col0, #T_9c5e8_row3_col1, #T_9c5e8_row3_col2, #T_9c5e8_row3_col3, #T_9c5e8_row3_col4, #T_9c5e8_row3_col5, #T_9c5e8_row3_col6, #T_9c5e8_row3_col7, #T_9c5e8_row3_col8, #T_9c5e8_row3_col9, #T_9c5e8_row3_col10, #T_9c5e8_row3_col11, #T_9c5e8_row4_col0, #T_9c5e8_row4_col1, #T_9c5e8_row4_col2, #T_9c5e8_row4_col3, #T_9c5e8_row4_col4, #T_9c5e8_row4_col5, #T_9c5e8_row4_col6, #T_9c5e8_row4_col7, #T_9c5e8_row4_col8, #T_9c5e8_row4_col9, #T_9c5e8_row4_col10, #T_9c5e8_row4_col11, #T_9c5e8_row5_col0, #T_9c5e8_row5_col1, #T_9c5e8_row5_col2, #T_9c5e8_row5_col3, #T_9c5e8_row5_col4, #T_9c5e8_row5_col5, #T_9c5e8_row5_col6, #T_9c5e8_row5_col7, #T_9c5e8_row5_col8, #T_9c5e8_row5_col9, #T_9c5e8_row5_col10, #T_9c5e8_row5_col11 {\n",
       "  text-align: left;\n",
       "  border: 1px #231f20 solid !important;\n",
       "  overwrite: False;\n",
       "}\n",
       "</style>\n",
       "<table id=\"T_9c5e8\">\n",
       "  <caption>Interfaces</caption>\n",
       "  <thead>\n",
       "    <tr>\n",
       "      <th id=\"T_9c5e8_level0_col0\" class=\"col_heading level0 col0\" >Name</th>\n",
       "      <th id=\"T_9c5e8_level0_col1\" class=\"col_heading level0 col1\" >Short Name</th>\n",
       "      <th id=\"T_9c5e8_level0_col2\" class=\"col_heading level0 col2\" >Node</th>\n",
       "      <th id=\"T_9c5e8_level0_col3\" class=\"col_heading level0 col3\" >Network</th>\n",
       "      <th id=\"T_9c5e8_level0_col4\" class=\"col_heading level0 col4\" >Bandwidth</th>\n",
       "      <th id=\"T_9c5e8_level0_col5\" class=\"col_heading level0 col5\" >Mode</th>\n",
       "      <th id=\"T_9c5e8_level0_col6\" class=\"col_heading level0 col6\" >VLAN</th>\n",
       "      <th id=\"T_9c5e8_level0_col7\" class=\"col_heading level0 col7\" >MAC</th>\n",
       "      <th id=\"T_9c5e8_level0_col8\" class=\"col_heading level0 col8\" >Physical Device</th>\n",
       "      <th id=\"T_9c5e8_level0_col9\" class=\"col_heading level0 col9\" >Device</th>\n",
       "      <th id=\"T_9c5e8_level0_col10\" class=\"col_heading level0 col10\" >IP Address</th>\n",
       "      <th id=\"T_9c5e8_level0_col11\" class=\"col_heading level0 col11\" >Numa Node</th>\n",
       "    </tr>\n",
       "  </thead>\n",
       "  <tbody>\n",
       "    <tr>\n",
       "      <td id=\"T_9c5e8_row0_col0\" class=\"data row0 col0\" >server1-nic-p1</td>\n",
       "      <td id=\"T_9c5e8_row0_col1\" class=\"data row0 col1\" >p1</td>\n",
       "      <td id=\"T_9c5e8_row0_col2\" class=\"data row0 col2\" >server1</td>\n",
       "      <td id=\"T_9c5e8_row0_col3\" class=\"data row0 col3\" >net1</td>\n",
       "      <td id=\"T_9c5e8_row0_col4\" class=\"data row0 col4\" >100</td>\n",
       "      <td id=\"T_9c5e8_row0_col5\" class=\"data row0 col5\" >config</td>\n",
       "      <td id=\"T_9c5e8_row0_col6\" class=\"data row0 col6\" ></td>\n",
       "      <td id=\"T_9c5e8_row0_col7\" class=\"data row0 col7\" >10:70:FD:E5:EC:40</td>\n",
       "      <td id=\"T_9c5e8_row0_col8\" class=\"data row0 col8\" >None</td>\n",
       "      <td id=\"T_9c5e8_row0_col9\" class=\"data row0 col9\" >None</td>\n",
       "      <td id=\"T_9c5e8_row0_col10\" class=\"data row0 col10\" >None</td>\n",
       "      <td id=\"T_9c5e8_row0_col11\" class=\"data row0 col11\" >6</td>\n",
       "    </tr>\n",
       "    <tr>\n",
       "      <td id=\"T_9c5e8_row1_col0\" class=\"data row1 col0\" >server1-nic-p2</td>\n",
       "      <td id=\"T_9c5e8_row1_col1\" class=\"data row1 col1\" >p2</td>\n",
       "      <td id=\"T_9c5e8_row1_col2\" class=\"data row1 col2\" >server1</td>\n",
       "      <td id=\"T_9c5e8_row1_col3\" class=\"data row1 col3\" >None</td>\n",
       "      <td id=\"T_9c5e8_row1_col4\" class=\"data row1 col4\" >100</td>\n",
       "      <td id=\"T_9c5e8_row1_col5\" class=\"data row1 col5\" >config</td>\n",
       "      <td id=\"T_9c5e8_row1_col6\" class=\"data row1 col6\" ></td>\n",
       "      <td id=\"T_9c5e8_row1_col7\" class=\"data row1 col7\" >10:70:FD:E5:EC:41</td>\n",
       "      <td id=\"T_9c5e8_row1_col8\" class=\"data row1 col8\" >None</td>\n",
       "      <td id=\"T_9c5e8_row1_col9\" class=\"data row1 col9\" >None</td>\n",
       "      <td id=\"T_9c5e8_row1_col10\" class=\"data row1 col10\" >None</td>\n",
       "      <td id=\"T_9c5e8_row1_col11\" class=\"data row1 col11\" >6</td>\n",
       "    </tr>\n",
       "    <tr>\n",
       "      <td id=\"T_9c5e8_row2_col0\" class=\"data row2 col0\" >server2-nic2-p2</td>\n",
       "      <td id=\"T_9c5e8_row2_col1\" class=\"data row2 col1\" >p2</td>\n",
       "      <td id=\"T_9c5e8_row2_col2\" class=\"data row2 col2\" >server2</td>\n",
       "      <td id=\"T_9c5e8_row2_col3\" class=\"data row2 col3\" >net2</td>\n",
       "      <td id=\"T_9c5e8_row2_col4\" class=\"data row2 col4\" >100</td>\n",
       "      <td id=\"T_9c5e8_row2_col5\" class=\"data row2 col5\" >config</td>\n",
       "      <td id=\"T_9c5e8_row2_col6\" class=\"data row2 col6\" ></td>\n",
       "      <td id=\"T_9c5e8_row2_col7\" class=\"data row2 col7\" >10:70:FD:E5:E7:79</td>\n",
       "      <td id=\"T_9c5e8_row2_col8\" class=\"data row2 col8\" >None</td>\n",
       "      <td id=\"T_9c5e8_row2_col9\" class=\"data row2 col9\" >None</td>\n",
       "      <td id=\"T_9c5e8_row2_col10\" class=\"data row2 col10\" >None</td>\n",
       "      <td id=\"T_9c5e8_row2_col11\" class=\"data row2 col11\" >2</td>\n",
       "    </tr>\n",
       "    <tr>\n",
       "      <td id=\"T_9c5e8_row3_col0\" class=\"data row3 col0\" >server2-nic2-p1</td>\n",
       "      <td id=\"T_9c5e8_row3_col1\" class=\"data row3 col1\" >p1</td>\n",
       "      <td id=\"T_9c5e8_row3_col2\" class=\"data row3 col2\" >server2</td>\n",
       "      <td id=\"T_9c5e8_row3_col3\" class=\"data row3 col3\" >net1</td>\n",
       "      <td id=\"T_9c5e8_row3_col4\" class=\"data row3 col4\" >100</td>\n",
       "      <td id=\"T_9c5e8_row3_col5\" class=\"data row3 col5\" >config</td>\n",
       "      <td id=\"T_9c5e8_row3_col6\" class=\"data row3 col6\" ></td>\n",
       "      <td id=\"T_9c5e8_row3_col7\" class=\"data row3 col7\" >10:70:FD:E5:E7:78</td>\n",
       "      <td id=\"T_9c5e8_row3_col8\" class=\"data row3 col8\" >None</td>\n",
       "      <td id=\"T_9c5e8_row3_col9\" class=\"data row3 col9\" >None</td>\n",
       "      <td id=\"T_9c5e8_row3_col10\" class=\"data row3 col10\" >None</td>\n",
       "      <td id=\"T_9c5e8_row3_col11\" class=\"data row3 col11\" >2</td>\n",
       "    </tr>\n",
       "    <tr>\n",
       "      <td id=\"T_9c5e8_row4_col0\" class=\"data row4 col0\" >server3-nic3-p1</td>\n",
       "      <td id=\"T_9c5e8_row4_col1\" class=\"data row4 col1\" >p1</td>\n",
       "      <td id=\"T_9c5e8_row4_col2\" class=\"data row4 col2\" >server3</td>\n",
       "      <td id=\"T_9c5e8_row4_col3\" class=\"data row4 col3\" >net2</td>\n",
       "      <td id=\"T_9c5e8_row4_col4\" class=\"data row4 col4\" >100</td>\n",
       "      <td id=\"T_9c5e8_row4_col5\" class=\"data row4 col5\" >config</td>\n",
       "      <td id=\"T_9c5e8_row4_col6\" class=\"data row4 col6\" ></td>\n",
       "      <td id=\"T_9c5e8_row4_col7\" class=\"data row4 col7\" >10:70:FD:E5:E5:F8</td>\n",
       "      <td id=\"T_9c5e8_row4_col8\" class=\"data row4 col8\" >None</td>\n",
       "      <td id=\"T_9c5e8_row4_col9\" class=\"data row4 col9\" >None</td>\n",
       "      <td id=\"T_9c5e8_row4_col10\" class=\"data row4 col10\" >None</td>\n",
       "      <td id=\"T_9c5e8_row4_col11\" class=\"data row4 col11\" >1</td>\n",
       "    </tr>\n",
       "    <tr>\n",
       "      <td id=\"T_9c5e8_row5_col0\" class=\"data row5 col0\" >server3-nic3-p2</td>\n",
       "      <td id=\"T_9c5e8_row5_col1\" class=\"data row5 col1\" >p2</td>\n",
       "      <td id=\"T_9c5e8_row5_col2\" class=\"data row5 col2\" >server3</td>\n",
       "      <td id=\"T_9c5e8_row5_col3\" class=\"data row5 col3\" >None</td>\n",
       "      <td id=\"T_9c5e8_row5_col4\" class=\"data row5 col4\" >100</td>\n",
       "      <td id=\"T_9c5e8_row5_col5\" class=\"data row5 col5\" >config</td>\n",
       "      <td id=\"T_9c5e8_row5_col6\" class=\"data row5 col6\" ></td>\n",
       "      <td id=\"T_9c5e8_row5_col7\" class=\"data row5 col7\" >10:70:FD:E5:E5:F9</td>\n",
       "      <td id=\"T_9c5e8_row5_col8\" class=\"data row5 col8\" >None</td>\n",
       "      <td id=\"T_9c5e8_row5_col9\" class=\"data row5 col9\" >None</td>\n",
       "      <td id=\"T_9c5e8_row5_col10\" class=\"data row5 col10\" >None</td>\n",
       "      <td id=\"T_9c5e8_row5_col11\" class=\"data row5 col11\" >1</td>\n",
       "    </tr>\n",
       "  </tbody>\n",
       "</table>\n"
      ],
      "text/plain": [
       "<pandas.io.formats.style.Styler at 0x7fd36c56f550>"
      ]
     },
     "metadata": {},
     "output_type": "display_data"
    },
    {
     "name": "stdout",
     "output_type": "stream",
     "text": [
      "\n",
      "Time to print interfaces 4446 seconds\n"
     ]
    }
   ],
   "source": [
    "#Submit Slice Request\n",
    "slice.submit();"
   ]
  },
  {
   "cell_type": "markdown",
   "id": "742c54f2-4a8b-4ec1-bc9c-f32074db43e9",
   "metadata": {},
   "source": [
    "# Step 4: Set the workspace\n",
    "\n",
    "These steps apply to all servers  "
   ]
  },
  {
   "cell_type": "markdown",
   "id": "653c12ab-fc9d-469f-ae78-0c21d2d84175",
   "metadata": {},
   "source": [
    "### Upload .sh file (ask)"
   ]
  },
  {
   "cell_type": "code",
   "execution_count": 3,
   "id": "14485ef7-1a32-48f6-833e-48579478ac1d",
   "metadata": {},
   "outputs": [
    {
     "ename": "AuthenticationException",
     "evalue": "Authentication failed.",
     "output_type": "error",
     "traceback": [
      "\u001b[0;31m---------------------------------------------------------------------------\u001b[0m",
      "\u001b[0;31mAuthenticationException\u001b[0m                   Traceback (most recent call last)",
      "Cell \u001b[0;32mIn[3], line 7\u001b[0m\n\u001b[1;32m      5\u001b[0m \u001b[38;5;66;03m# If the node is an IPv6 Node then configure NAT64\u001b[39;00m\n\u001b[1;32m      6\u001b[0m \u001b[38;5;28;01mif\u001b[39;00m \u001b[38;5;28mtype\u001b[39m(ip_address(server1\u001b[38;5;241m.\u001b[39mget_management_ip())) \u001b[38;5;129;01mis\u001b[39;00m IPv6Address:\n\u001b[0;32m----> 7\u001b[0m     \u001b[43mserver1\u001b[49m\u001b[38;5;241;43m.\u001b[39;49m\u001b[43mupload_file\u001b[49m\u001b[43m(\u001b[49m\u001b[38;5;124;43m'\u001b[39;49m\u001b[38;5;124;43mnat64.sh\u001b[39;49m\u001b[38;5;124;43m'\u001b[39;49m\u001b[43m,\u001b[49m\u001b[43m \u001b[49m\u001b[38;5;124;43m'\u001b[39;49m\u001b[38;5;124;43mnat64.sh\u001b[39;49m\u001b[38;5;124;43m'\u001b[39;49m\u001b[43m)\u001b[49m\n\u001b[1;32m      8\u001b[0m     stdout, stderr \u001b[38;5;241m=\u001b[39m server1\u001b[38;5;241m.\u001b[39mexecute(\u001b[38;5;124mf\u001b[39m\u001b[38;5;124m'\u001b[39m\u001b[38;5;124mchmod +x nat64.sh && ./nat64.sh\u001b[39m\u001b[38;5;124m'\u001b[39m)\n\u001b[1;32m     10\u001b[0m server1\u001b[38;5;241m.\u001b[39mupload_file(\u001b[38;5;124m'\u001b[39m\u001b[38;5;124mhost_tune.sh\u001b[39m\u001b[38;5;124m'\u001b[39m, \u001b[38;5;124m'\u001b[39m\u001b[38;5;124mhost_tune.sh\u001b[39m\u001b[38;5;124m'\u001b[39m)\n",
      "File \u001b[0;32m/opt/conda/lib/python3.10/site-packages/fabrictestbed_extensions/fablib/node.py:1713\u001b[0m, in \u001b[0;36mNode.upload_file\u001b[0;34m(self, local_file_path, remote_file_path, retry, retry_interval)\u001b[0m\n\u001b[1;32m   1710\u001b[0m logging\u001b[38;5;241m.\u001b[39mwarning(\u001b[38;5;124mf\u001b[39m\u001b[38;5;124m\"\u001b[39m\u001b[38;5;124mException on upload_file() attempt #\u001b[39m\u001b[38;5;132;01m{\u001b[39;00mattempt\u001b[38;5;132;01m}\u001b[39;00m\u001b[38;5;124m: \u001b[39m\u001b[38;5;132;01m{\u001b[39;00me\u001b[38;5;132;01m}\u001b[39;00m\u001b[38;5;124m\"\u001b[39m)\n\u001b[1;32m   1712\u001b[0m \u001b[38;5;28;01mif\u001b[39;00m attempt \u001b[38;5;241m+\u001b[39m \u001b[38;5;241m1\u001b[39m \u001b[38;5;241m==\u001b[39m retry:\n\u001b[0;32m-> 1713\u001b[0m     \u001b[38;5;28;01mraise\u001b[39;00m e\n\u001b[1;32m   1715\u001b[0m \u001b[38;5;66;03m# Fail, try again\u001b[39;00m\n\u001b[1;32m   1716\u001b[0m logging\u001b[38;5;241m.\u001b[39mwarning(\n\u001b[1;32m   1717\u001b[0m     \u001b[38;5;124mf\u001b[39m\u001b[38;5;124m\"\u001b[39m\u001b[38;5;124mSCP upload fail. Slice: \u001b[39m\u001b[38;5;132;01m{\u001b[39;00m\u001b[38;5;28mself\u001b[39m\u001b[38;5;241m.\u001b[39mget_slice()\u001b[38;5;241m.\u001b[39mget_name()\u001b[38;5;132;01m}\u001b[39;00m\u001b[38;5;124m, Node: \u001b[39m\u001b[38;5;132;01m{\u001b[39;00m\u001b[38;5;28mself\u001b[39m\u001b[38;5;241m.\u001b[39mget_name()\u001b[38;5;132;01m}\u001b[39;00m\u001b[38;5;124m, trying again. Exception: \u001b[39m\u001b[38;5;132;01m{\u001b[39;00me\u001b[38;5;132;01m}\u001b[39;00m\u001b[38;5;124m\"\u001b[39m\n\u001b[1;32m   1718\u001b[0m )\n",
      "File \u001b[0;32m/opt/conda/lib/python3.10/site-packages/fabrictestbed_extensions/fablib/node.py:1674\u001b[0m, in \u001b[0;36mNode.upload_file\u001b[0;34m(self, local_file_path, remote_file_path, retry, retry_interval)\u001b[0m\n\u001b[1;32m   1672\u001b[0m bastion \u001b[38;5;241m=\u001b[39m paramiko\u001b[38;5;241m.\u001b[39mSSHClient()\n\u001b[1;32m   1673\u001b[0m bastion\u001b[38;5;241m.\u001b[39mset_missing_host_key_policy(paramiko\u001b[38;5;241m.\u001b[39mAutoAddPolicy())\n\u001b[0;32m-> 1674\u001b[0m \u001b[43mbastion\u001b[49m\u001b[38;5;241;43m.\u001b[39;49m\u001b[43mconnect\u001b[49m\u001b[43m(\u001b[49m\n\u001b[1;32m   1675\u001b[0m \u001b[43m    \u001b[49m\u001b[38;5;28;43mself\u001b[39;49m\u001b[38;5;241;43m.\u001b[39;49m\u001b[43mget_fablib_manager\u001b[49m\u001b[43m(\u001b[49m\u001b[43m)\u001b[49m\u001b[38;5;241;43m.\u001b[39;49m\u001b[43mget_bastion_host\u001b[49m\u001b[43m(\u001b[49m\u001b[43m)\u001b[49m\u001b[43m,\u001b[49m\n\u001b[1;32m   1676\u001b[0m \u001b[43m    \u001b[49m\u001b[43musername\u001b[49m\u001b[38;5;241;43m=\u001b[39;49m\u001b[38;5;28;43mself\u001b[39;49m\u001b[38;5;241;43m.\u001b[39;49m\u001b[43mget_fablib_manager\u001b[49m\u001b[43m(\u001b[49m\u001b[43m)\u001b[49m\u001b[38;5;241;43m.\u001b[39;49m\u001b[43mget_bastion_username\u001b[49m\u001b[43m(\u001b[49m\u001b[43m)\u001b[49m\u001b[43m,\u001b[49m\n\u001b[1;32m   1677\u001b[0m \u001b[43m    \u001b[49m\u001b[43mkey_filename\u001b[49m\u001b[38;5;241;43m=\u001b[39;49m\u001b[38;5;28;43mself\u001b[39;49m\u001b[38;5;241;43m.\u001b[39;49m\u001b[43mget_fablib_manager\u001b[49m\u001b[43m(\u001b[49m\u001b[43m)\u001b[49m\u001b[38;5;241;43m.\u001b[39;49m\u001b[43mget_bastion_key_location\u001b[49m\u001b[43m(\u001b[49m\u001b[43m)\u001b[49m\u001b[43m,\u001b[49m\n\u001b[1;32m   1678\u001b[0m \u001b[43m\u001b[49m\u001b[43m)\u001b[49m\n\u001b[1;32m   1680\u001b[0m bastion_transport \u001b[38;5;241m=\u001b[39m bastion\u001b[38;5;241m.\u001b[39mget_transport()\n\u001b[1;32m   1681\u001b[0m bastion_channel \u001b[38;5;241m=\u001b[39m bastion_transport\u001b[38;5;241m.\u001b[39mopen_channel(\n\u001b[1;32m   1682\u001b[0m     \u001b[38;5;124m\"\u001b[39m\u001b[38;5;124mdirect-tcpip\u001b[39m\u001b[38;5;124m\"\u001b[39m, dest_addr, src_addr\n\u001b[1;32m   1683\u001b[0m )\n",
      "File \u001b[0;32m/opt/conda/lib/python3.10/site-packages/paramiko/client.py:485\u001b[0m, in \u001b[0;36mSSHClient.connect\u001b[0;34m(self, hostname, port, username, password, pkey, key_filename, timeout, allow_agent, look_for_keys, compress, sock, gss_auth, gss_kex, gss_deleg_creds, gss_host, banner_timeout, auth_timeout, channel_timeout, gss_trust_dns, passphrase, disabled_algorithms, transport_factory, auth_strategy)\u001b[0m\n\u001b[1;32m    482\u001b[0m \u001b[38;5;28;01melse\u001b[39;00m:\n\u001b[1;32m    483\u001b[0m     key_filenames \u001b[38;5;241m=\u001b[39m key_filename\n\u001b[0;32m--> 485\u001b[0m \u001b[38;5;28;43mself\u001b[39;49m\u001b[38;5;241;43m.\u001b[39;49m\u001b[43m_auth\u001b[49m\u001b[43m(\u001b[49m\n\u001b[1;32m    486\u001b[0m \u001b[43m    \u001b[49m\u001b[43musername\u001b[49m\u001b[43m,\u001b[49m\n\u001b[1;32m    487\u001b[0m \u001b[43m    \u001b[49m\u001b[43mpassword\u001b[49m\u001b[43m,\u001b[49m\n\u001b[1;32m    488\u001b[0m \u001b[43m    \u001b[49m\u001b[43mpkey\u001b[49m\u001b[43m,\u001b[49m\n\u001b[1;32m    489\u001b[0m \u001b[43m    \u001b[49m\u001b[43mkey_filenames\u001b[49m\u001b[43m,\u001b[49m\n\u001b[1;32m    490\u001b[0m \u001b[43m    \u001b[49m\u001b[43mallow_agent\u001b[49m\u001b[43m,\u001b[49m\n\u001b[1;32m    491\u001b[0m \u001b[43m    \u001b[49m\u001b[43mlook_for_keys\u001b[49m\u001b[43m,\u001b[49m\n\u001b[1;32m    492\u001b[0m \u001b[43m    \u001b[49m\u001b[43mgss_auth\u001b[49m\u001b[43m,\u001b[49m\n\u001b[1;32m    493\u001b[0m \u001b[43m    \u001b[49m\u001b[43mgss_kex\u001b[49m\u001b[43m,\u001b[49m\n\u001b[1;32m    494\u001b[0m \u001b[43m    \u001b[49m\u001b[43mgss_deleg_creds\u001b[49m\u001b[43m,\u001b[49m\n\u001b[1;32m    495\u001b[0m \u001b[43m    \u001b[49m\u001b[43mt\u001b[49m\u001b[38;5;241;43m.\u001b[39;49m\u001b[43mgss_host\u001b[49m\u001b[43m,\u001b[49m\n\u001b[1;32m    496\u001b[0m \u001b[43m    \u001b[49m\u001b[43mpassphrase\u001b[49m\u001b[43m,\u001b[49m\n\u001b[1;32m    497\u001b[0m \u001b[43m\u001b[49m\u001b[43m)\u001b[49m\n",
      "File \u001b[0;32m/opt/conda/lib/python3.10/site-packages/paramiko/client.py:818\u001b[0m, in \u001b[0;36mSSHClient._auth\u001b[0;34m(self, username, password, pkey, key_filenames, allow_agent, look_for_keys, gss_auth, gss_kex, gss_deleg_creds, gss_host, passphrase)\u001b[0m\n\u001b[1;32m    816\u001b[0m \u001b[38;5;66;03m# if we got an auth-failed exception earlier, re-raise it\u001b[39;00m\n\u001b[1;32m    817\u001b[0m \u001b[38;5;28;01mif\u001b[39;00m saved_exception \u001b[38;5;129;01mis\u001b[39;00m \u001b[38;5;129;01mnot\u001b[39;00m \u001b[38;5;28;01mNone\u001b[39;00m:\n\u001b[0;32m--> 818\u001b[0m     \u001b[38;5;28;01mraise\u001b[39;00m saved_exception\n\u001b[1;32m    819\u001b[0m \u001b[38;5;28;01mraise\u001b[39;00m SSHException(\u001b[38;5;124m\"\u001b[39m\u001b[38;5;124mNo authentication methods available\u001b[39m\u001b[38;5;124m\"\u001b[39m)\n",
      "File \u001b[0;32m/opt/conda/lib/python3.10/site-packages/paramiko/client.py:794\u001b[0m, in \u001b[0;36mSSHClient._auth\u001b[0;34m(self, username, password, pkey, key_filenames, allow_agent, look_for_keys, gss_auth, gss_kex, gss_deleg_creds, gss_host, passphrase)\u001b[0m\n\u001b[1;32m    788\u001b[0m key \u001b[38;5;241m=\u001b[39m \u001b[38;5;28mself\u001b[39m\u001b[38;5;241m.\u001b[39m_key_from_filepath(\n\u001b[1;32m    789\u001b[0m     filename, pkey_class, passphrase\n\u001b[1;32m    790\u001b[0m )\n\u001b[1;32m    791\u001b[0m \u001b[38;5;66;03m# for 2-factor auth a successfully auth'd key will result\u001b[39;00m\n\u001b[1;32m    792\u001b[0m \u001b[38;5;66;03m# in ['password']\u001b[39;00m\n\u001b[1;32m    793\u001b[0m allowed_types \u001b[38;5;241m=\u001b[39m \u001b[38;5;28mset\u001b[39m(\n\u001b[0;32m--> 794\u001b[0m     \u001b[38;5;28;43mself\u001b[39;49m\u001b[38;5;241;43m.\u001b[39;49m\u001b[43m_transport\u001b[49m\u001b[38;5;241;43m.\u001b[39;49m\u001b[43mauth_publickey\u001b[49m\u001b[43m(\u001b[49m\u001b[43musername\u001b[49m\u001b[43m,\u001b[49m\u001b[43m \u001b[49m\u001b[43mkey\u001b[49m\u001b[43m)\u001b[49m\n\u001b[1;32m    795\u001b[0m )\n\u001b[1;32m    796\u001b[0m two_factor \u001b[38;5;241m=\u001b[39m allowed_types \u001b[38;5;241m&\u001b[39m two_factor_types\n\u001b[1;32m    797\u001b[0m \u001b[38;5;28;01mif\u001b[39;00m \u001b[38;5;129;01mnot\u001b[39;00m two_factor:\n",
      "File \u001b[0;32m/opt/conda/lib/python3.10/site-packages/paramiko/transport.py:1674\u001b[0m, in \u001b[0;36mTransport.auth_publickey\u001b[0;34m(self, username, key, event)\u001b[0m\n\u001b[1;32m   1671\u001b[0m \u001b[38;5;28;01mif\u001b[39;00m event \u001b[38;5;129;01mis\u001b[39;00m \u001b[38;5;129;01mnot\u001b[39;00m \u001b[38;5;28;01mNone\u001b[39;00m:\n\u001b[1;32m   1672\u001b[0m     \u001b[38;5;66;03m# caller wants to wait for event themselves\u001b[39;00m\n\u001b[1;32m   1673\u001b[0m     \u001b[38;5;28;01mreturn\u001b[39;00m []\n\u001b[0;32m-> 1674\u001b[0m \u001b[38;5;28;01mreturn\u001b[39;00m \u001b[38;5;28;43mself\u001b[39;49m\u001b[38;5;241;43m.\u001b[39;49m\u001b[43mauth_handler\u001b[49m\u001b[38;5;241;43m.\u001b[39;49m\u001b[43mwait_for_response\u001b[49m\u001b[43m(\u001b[49m\u001b[43mmy_event\u001b[49m\u001b[43m)\u001b[49m\n",
      "File \u001b[0;32m/opt/conda/lib/python3.10/site-packages/paramiko/auth_handler.py:263\u001b[0m, in \u001b[0;36mAuthHandler.wait_for_response\u001b[0;34m(self, event)\u001b[0m\n\u001b[1;32m    261\u001b[0m     \u001b[38;5;28;01mif\u001b[39;00m \u001b[38;5;28missubclass\u001b[39m(e\u001b[38;5;241m.\u001b[39m\u001b[38;5;18m__class__\u001b[39m, PartialAuthentication):\n\u001b[1;32m    262\u001b[0m         \u001b[38;5;28;01mreturn\u001b[39;00m e\u001b[38;5;241m.\u001b[39mallowed_types\n\u001b[0;32m--> 263\u001b[0m     \u001b[38;5;28;01mraise\u001b[39;00m e\n\u001b[1;32m    264\u001b[0m \u001b[38;5;28;01mreturn\u001b[39;00m []\n",
      "\u001b[0;31mAuthenticationException\u001b[0m: Authentication failed."
     ]
    }
   ],
   "source": [
    "from ipaddress import ip_address, IPv6Address\n",
    "\n",
    "server1 = slice.get_node(name=\"server1\")     \n",
    "\n",
    "# If the node is an IPv6 Node then configure NAT64\n",
    "if type(ip_address(server1.get_management_ip())) is IPv6Address:\n",
    "    server1.upload_file('nat64.sh', 'nat64.sh')\n",
    "    stdout, stderr = server1.execute(f'chmod +x nat64.sh && ./nat64.sh')\n",
    "\n",
    "server1.upload_file('host_tune.sh', 'host_tune.sh')\n",
    "stdout, stderr = server1.execute(f'chmod +x host_tune.sh && sudo ./host_tune.sh')"
   ]
  },
  {
   "cell_type": "code",
   "execution_count": 13,
   "id": "027438ee-7b07-4744-8d47-a41359057d39",
   "metadata": {},
   "outputs": [
    {
     "name": "stdout",
     "output_type": "stream",
     "text": [
      "\u001b[31m sudo: unable to resolve host server2: Name or service not known\n",
      "sudo: unable to resolve host server2: Temporary failure in name resolution\n",
      "sudo: unable to resolve host server2: Name or service not known\n",
      "sudo: unable to resolve host server2: Name or service not known\n",
      " \u001b[0m* Applying /etc/sysctl.d/10-console-messages.conf ...\n",
      "kernel.printk = 4 4 1 7\n",
      "* Applying /etc/sysctl.d/10-ipv6-privacy.conf ...\n",
      "net.ipv6.conf.all.use_tempaddr = 2\n",
      "net.ipv6.conf.default.use_tempaddr = 2\n",
      "* Applying /etc/sysctl.d/10-kernel-hardening.conf ...\n",
      "kernel.kptr_restrict = 1\n",
      "* Applying /etc/sysctl.d/10-link-restrictions.conf ...\n",
      "fs.protected_hardlinks = 1\n",
      "fs.protected_symlinks = 1\n",
      "* Applying /etc/sysctl.d/10-magic-sysrq.conf ...\n",
      "kernel.sysrq = 176\n",
      "* Applying /etc/sysctl.d/10-network-security.conf ...\n",
      "net.ipv4.conf.default.rp_filter = 2\n",
      "net.ipv4.conf.all.rp_filter = 2\n",
      "* Applying /etc/sysctl.d/10-ptrace.conf ...\n",
      "kernel.yama.ptrace_scope = 1\n",
      "* Applying /etc/sysctl.d/10-zeropage.conf ...\n",
      "vm.mmap_min_addr = 65536\n",
      "* Applying /usr/lib/sysctl.d/50-default.conf ...\n",
      "net.ipv4.conf.default.promote_secondaries = 1\n",
      "\u001b[31m sudo: unable to resolve host server2: Name or service not known\n",
      "sysctl: setting key \"net.ipv4.conf.all.promote_secondaries\": Invalid argument\n",
      " \u001b[0mnet.ipv4.ping_group_range = 0 2147483647\n",
      "net.core.default_qdisc = fq_codel\n",
      "fs.protected_regular = 1\n",
      "fs.protected_fifos = 1\n",
      "* Applying /usr/lib/sysctl.d/50-pid-max.conf ...\n",
      "kernel.pid_max = 4194304\n",
      "* Applying /etc/sysctl.d/99-cloudimg-ipv6.conf ...\n",
      "net.ipv6.conf.all.use_tempaddr = 0\n",
      "net.ipv6.conf.default.use_tempaddr = 0\n",
      "* Applying /etc/sysctl.d/99-sysctl.conf ...\n",
      "net.core.rmem_max = 536870912\n",
      "net.core.wmem_max = 536870912\n",
      "net.ipv4.tcp_rmem = 4096 87380 536870912\n",
      "net.ipv4.tcp_wmem = 4096 65536 536870912\n",
      "net.ipv4.tcp_congestion_control = bbr\n",
      "net.ipv4.tcp_mtu_probing = 1\n",
      "net.core.default_qdisc = fq\n",
      "net.core.rmem_max = 536870912\n",
      "net.core.wmem_max = 536870912\n",
      "net.ipv4.tcp_rmem = 4096 87380 536870912\n",
      "net.ipv4.tcp_wmem = 4096 65536 536870912\n",
      "net.ipv4.tcp_congestion_control = bbr\n",
      "net.ipv4.tcp_mtu_probing = 1\n",
      "net.core.default_qdisc = fq\n",
      "* Applying /usr/lib/sysctl.d/protect-links.conf ...\n",
      "fs.protected_fifos = 1\n",
      "fs.protected_hardlinks = 1\n",
      "fs.protected_regular = 2\n",
      "fs.protected_symlinks = 1\n",
      "* Applying /etc/sysctl.conf ...\n",
      "net.core.rmem_max = 536870912\n",
      "net.core.wmem_max = 536870912\n",
      "net.ipv4.tcp_rmem = 4096 87380 536870912\n",
      "net.ipv4.tcp_wmem = 4096 65536 536870912\n",
      "net.ipv4.tcp_congestion_control = bbr\n",
      "net.ipv4.tcp_mtu_probing = 1\n",
      "net.core.default_qdisc = fq\n",
      "net.core.rmem_max = 536870912\n",
      "net.core.wmem_max = 536870912\n",
      "net.ipv4.tcp_rmem = 4096 87380 536870912\n",
      "net.ipv4.tcp_wmem = 4096 65536 536870912\n",
      "net.ipv4.tcp_congestion_control = bbr\n",
      "net.ipv4.tcp_mtu_probing = 1\n",
      "net.core.default_qdisc = fq\n"
     ]
    }
   ],
   "source": [
    "from ipaddress import ip_address, IPv6Address\n",
    "\n",
    "server2 = slice.get_node(name=\"server2\")     \n",
    "\n",
    "# If the node is an IPv6 Node then configure NAT64\n",
    "if type(ip_address(server2.get_management_ip())) is IPv6Address:\n",
    "    server2.upload_file('nat64.sh', 'nat64.sh')\n",
    "\n",
    "    stdout, stderr = server2.execute(f'chmod +x nat64.sh && ./nat64.sh')\n",
    "\n",
    "server2.upload_file('host_tune.sh', 'host_tune.sh')\n",
    "stdout, stderr = server2.execute(f'chmod +x host_tune.sh && sudo ./host_tune.sh')"
   ]
  },
  {
   "cell_type": "code",
   "execution_count": 14,
   "id": "a1092ea8-c332-42d7-a717-253b9081f974",
   "metadata": {},
   "outputs": [
    {
     "name": "stdout",
     "output_type": "stream",
     "text": [
      "\u001b[31m sudo: unable to resolve host server3: Name or service not known\n",
      "sudo: unable to resolve host server3: Temporary failure in name resolution\n",
      "sudo: unable to resolve host server3: Name or service not known\n",
      "sudo: unable to resolve host server3: Name or service not known\n",
      " \u001b[0m* Applying /etc/sysctl.d/10-console-messages.conf ...\n",
      "kernel.printk = 4 4 1 7\n",
      "* Applying /etc/sysctl.d/10-ipv6-privacy.conf ...\n",
      "net.ipv6.conf.all.use_tempaddr = 2\n",
      "net.ipv6.conf.default.use_tempaddr = 2\n",
      "* Applying /etc/sysctl.d/10-kernel-hardening.conf ...\n",
      "kernel.kptr_restrict = 1\n",
      "* Applying /etc/sysctl.d/10-link-restrictions.conf ...\n",
      "fs.protected_hardlinks = 1\n",
      "fs.protected_symlinks = 1\n",
      "* Applying /etc/sysctl.d/10-magic-sysrq.conf ...\n",
      "kernel.sysrq = 176\n",
      "* Applying /etc/sysctl.d/10-network-security.conf ...\n",
      "net.ipv4.conf.default.rp_filter = 2\n",
      "net.ipv4.conf.all.rp_filter = 2\n",
      "* Applying /etc/sysctl.d/10-ptrace.conf ...\n",
      "kernel.yama.ptrace_scope = 1\n",
      "* Applying /etc/sysctl.d/10-zeropage.conf ...\n",
      "vm.mmap_min_addr = 65536\n",
      "* Applying /usr/lib/sysctl.d/50-default.conf ...\n",
      "net.ipv4.conf.default.promote_secondaries = 1\n",
      "\u001b[31m sudo: unable to resolve host server3: Name or service not known\n",
      " \u001b[0m\u001b[31m sysctl: setting key \"net.ipv4.conf.all.promote_secondaries\" \u001b[0m\u001b[31m : Invalid argument\n",
      " \u001b[0mnet.ipv4.ping_group_range = 0 2147483647\n",
      "net.core.default_qdisc = fq_codel\n",
      "fs.protected_regular = 1\n",
      "fs.protected_fifos = 1\n",
      "* Applying /usr/lib/sysctl.d/50-pid-max.conf ...\n",
      "kernel.pid_max = 4194304\n",
      "* Applying /etc/sysctl.d/99-cloudimg-ipv6.conf ...\n",
      "net.ipv6.conf.all.use_tempaddr = 0\n",
      "net.ipv6.conf.default.use_tempaddr = 0\n",
      "* Applying /etc/sysctl.d/99-sysctl.conf ...\n",
      "net.core.rmem_max = 536870912\n",
      "net.core.wmem_max = 536870912\n",
      "net.ipv4.tcp_rmem = 4096 87380 536870912\n",
      "net.ipv4.tcp_wmem = 4096 65536 536870912\n",
      "net.ipv4.tcp_congestion_control = bbr\n",
      "net.ipv4.tcp_mtu_probing = 1\n",
      "net.core.default_qdisc = fq\n",
      "net.core.rmem_max = 536870912\n",
      "net.core.wmem_max = 536870912\n",
      "net.ipv4.tcp_rmem = 4096 87380 536870912\n",
      "net.ipv4.tcp_wmem = 4096 65536 536870912\n",
      "net.ipv4.tcp_congestion_control = bbr\n",
      "net.ipv4.tcp_mtu_probing = 1\n",
      "net.core.default_qdisc = fq\n",
      "* Applying /usr/lib/sysctl.d/protect-links.conf ...\n",
      "fs.protected_fifos = 1\n",
      "fs.protected_hardlinks = 1\n",
      "fs.protected_regular = 2\n",
      "fs.protected_symlinks = 1\n",
      "* Applying /etc/sysctl.conf ...\n",
      "net.core.rmem_max = 536870912\n",
      "net.core.wmem_max = 536870912\n",
      "net.ipv4.tcp_rmem = 4096 87380 536870912\n",
      "net.ipv4.tcp_wmem = 4096 65536 536870912\n",
      "net.ipv4.tcp_congestion_control = bbr\n",
      "net.ipv4.tcp_mtu_probing = 1\n",
      "net.core.default_qdisc = fq\n",
      "net.core.rmem_max = 536870912\n",
      "net.core.wmem_max = 536870912\n",
      "net.ipv4.tcp_rmem = 4096 87380 536870912\n",
      "net.ipv4.tcp_wmem = 4096 65536 536870912\n",
      "net.ipv4.tcp_congestion_control = bbr\n",
      "net.ipv4.tcp_mtu_probing = 1\n",
      "net.core.default_qdisc = fq\n"
     ]
    }
   ],
   "source": [
    "from ipaddress import ip_address, IPv6Address\n",
    "\n",
    "server3 = slice.get_node(name=\"server3\")     \n",
    "\n",
    "# If the node is an IPv6 Node then configure NAT64\n",
    "if type(ip_address(server3.get_management_ip())) is IPv6Address:\n",
    "    server3.upload_file('nat64.sh', 'nat64.sh')\n",
    "\n",
    "    stdout, stderr = server3.execute(f'chmod +x nat64.sh && ./nat64.sh')\n",
    "\n",
    "server3.upload_file('host_tune.sh', 'host_tune.sh')\n",
    "stdout, stderr = server3.execute(f'chmod +x host_tune.sh && sudo ./host_tune.sh')"
   ]
  },
  {
   "cell_type": "markdown",
   "id": "19b87b4a-bd7b-440e-aa5d-9babce9bfec0",
   "metadata": {},
   "source": [
    "### Pinning numa nodes"
   ]
  },
  {
   "cell_type": "code",
   "execution_count": 6,
   "id": "262f4fed-1eb0-48d9-8ad2-09d3b586854d",
   "metadata": {},
   "outputs": [
    {
     "name": "stdout",
     "output_type": "stream",
     "text": [
      "Pinning Node: server1 CPUs for component: nic to Numa Node: 2\n",
      "Pinning Node: server2 CPUs for component: nic2 to Numa Node: 1\n",
      "Pinning Node: server3 CPUs for component: nic3 to Numa Node: 6\n",
      "Numa tune Node: server1 Memory to Numa  Nodes: ['2']\n"
     ]
    },
    {
     "ename": "Exception",
     "evalue": "POA - f909d61b-e29a-4ebe-a5e0-239b8b6c1da5/numatune failed with error: - Exception during poa for unit: c384c49b-694f-4c4c-8ff2-a65c91959b09 msg Playbook has failed tasks: non-zero return code",
     "output_type": "error",
     "traceback": [
      "\u001b[0;31m---------------------------------------------------------------------------\u001b[0m",
      "\u001b[0;31mException\u001b[0m                                 Traceback (most recent call last)",
      "Cell \u001b[0;32mIn[6], line 9\u001b[0m\n\u001b[1;32m      3\u001b[0m server3\u001b[38;5;241m.\u001b[39mpin_cpu(component_name\u001b[38;5;241m=\u001b[39m\u001b[38;5;124m'\u001b[39m\u001b[38;5;124mnic3\u001b[39m\u001b[38;5;124m'\u001b[39m)\n\u001b[1;32m      5\u001b[0m \u001b[38;5;66;03m# User can also pass in the range of the vCPUs to be pinned \u001b[39;00m\n\u001b[1;32m      6\u001b[0m \u001b[38;5;66;03m#node.pin_cpu(component_name=nic_name, cpu_range_to_pin=\"0-3\")\u001b[39;00m\n\u001b[1;32m      7\u001b[0m     \n\u001b[1;32m      8\u001b[0m \u001b[38;5;66;03m# Pin memmory for VM to same Numa node as the components\u001b[39;00m\n\u001b[0;32m----> 9\u001b[0m \u001b[43mserver1\u001b[49m\u001b[38;5;241;43m.\u001b[39;49m\u001b[43mnuma_tune\u001b[49m\u001b[43m(\u001b[49m\u001b[43m)\u001b[49m\n\u001b[1;32m     10\u001b[0m server2\u001b[38;5;241m.\u001b[39mnuma_tune()\n\u001b[1;32m     11\u001b[0m server3\u001b[38;5;241m.\u001b[39mnuma_tune()\n",
      "File \u001b[0;32m~/fabrictestbed-extensions/fabrictestbed_extensions/fablib/node.py:3447\u001b[0m, in \u001b[0;36mNode.numa_tune\u001b[0;34m(self)\u001b[0m\n\u001b[1;32m   3445\u001b[0m logging\u001b[38;5;241m.\u001b[39mgetLogger()\u001b[38;5;241m.\u001b[39merror(traceback\u001b[38;5;241m.\u001b[39mformat_exc())\n\u001b[1;32m   3446\u001b[0m logging\u001b[38;5;241m.\u001b[39mgetLogger(\u001b[38;5;124mf\u001b[39m\u001b[38;5;124m\"\u001b[39m\u001b[38;5;124mFailed to Numa tune for node: \u001b[39m\u001b[38;5;132;01m{\u001b[39;00m\u001b[38;5;28mself\u001b[39m\u001b[38;5;241m.\u001b[39mget_name()\u001b[38;5;132;01m}\u001b[39;00m\u001b[38;5;124m e: \u001b[39m\u001b[38;5;132;01m{\u001b[39;00me\u001b[38;5;132;01m}\u001b[39;00m\u001b[38;5;124m\"\u001b[39m)\n\u001b[0;32m-> 3447\u001b[0m \u001b[38;5;28;01mraise\u001b[39;00m e\n",
      "File \u001b[0;32m~/fabrictestbed-extensions/fabrictestbed_extensions/fablib/node.py:3435\u001b[0m, in \u001b[0;36mNode.numa_tune\u001b[0;34m(self)\u001b[0m\n\u001b[1;32m   3432\u001b[0m \u001b[38;5;28mprint\u001b[39m(msg)\n\u001b[1;32m   3434\u001b[0m \u001b[38;5;66;03m# Issue POA\u001b[39;00m\n\u001b[0;32m-> 3435\u001b[0m status \u001b[38;5;241m=\u001b[39m \u001b[38;5;28;43mself\u001b[39;49m\u001b[38;5;241;43m.\u001b[39;49m\u001b[43mpoa\u001b[49m\u001b[43m(\u001b[49m\u001b[43moperation\u001b[49m\u001b[38;5;241;43m=\u001b[39;49m\u001b[38;5;124;43m\"\u001b[39;49m\u001b[38;5;124;43mnumatune\u001b[39;49m\u001b[38;5;124;43m\"\u001b[39;49m\u001b[43m,\u001b[49m\u001b[43m \u001b[49m\u001b[43mnode_set\u001b[49m\u001b[38;5;241;43m=\u001b[39;49m\u001b[43mnuma_nodes\u001b[49m\u001b[43m)\u001b[49m\n\u001b[1;32m   3436\u001b[0m \u001b[38;5;28;01mif\u001b[39;00m status \u001b[38;5;241m==\u001b[39m \u001b[38;5;124m\"\u001b[39m\u001b[38;5;124mFailed\u001b[39m\u001b[38;5;124m\"\u001b[39m:\n\u001b[1;32m   3437\u001b[0m     logging\u001b[38;5;241m.\u001b[39mgetLogger()\u001b[38;5;241m.\u001b[39merror(\n\u001b[1;32m   3438\u001b[0m         \u001b[38;5;124mf\u001b[39m\u001b[38;5;124m\"\u001b[39m\u001b[38;5;124mNuma tune failed for node: \u001b[39m\u001b[38;5;132;01m{\u001b[39;00m\u001b[38;5;28mself\u001b[39m\u001b[38;5;241m.\u001b[39mget_name()\u001b[38;5;132;01m}\u001b[39;00m\u001b[38;5;124m\"\u001b[39m\n\u001b[1;32m   3439\u001b[0m     )\n",
      "File \u001b[0;32m~/fabrictestbed-extensions/fabrictestbed_extensions/fablib/node.py:3166\u001b[0m, in \u001b[0;36mNode.poa\u001b[0;34m(self, operation, vcpu_cpu_map, node_set, keys)\u001b[0m\n\u001b[1;32m   3163\u001b[0m     time\u001b[38;5;241m.\u001b[39msleep(\u001b[38;5;241m10\u001b[39m)\n\u001b[1;32m   3165\u001b[0m \u001b[38;5;28;01mif\u001b[39;00m poa_info_status[\u001b[38;5;241m0\u001b[39m]\u001b[38;5;241m.\u001b[39mstate \u001b[38;5;241m==\u001b[39m \u001b[38;5;124m\"\u001b[39m\u001b[38;5;124mFailed\u001b[39m\u001b[38;5;124m\"\u001b[39m:\n\u001b[0;32m-> 3166\u001b[0m     \u001b[38;5;28;01mraise\u001b[39;00m \u001b[38;5;167;01mException\u001b[39;00m(\n\u001b[1;32m   3167\u001b[0m         \u001b[38;5;124mf\u001b[39m\u001b[38;5;124m\"\u001b[39m\u001b[38;5;124mPOA - \u001b[39m\u001b[38;5;132;01m{\u001b[39;00mpoa_info[\u001b[38;5;241m0\u001b[39m]\u001b[38;5;241m.\u001b[39mpoa_id\u001b[38;5;132;01m}\u001b[39;00m\u001b[38;5;124m/\u001b[39m\u001b[38;5;132;01m{\u001b[39;00moperation\u001b[38;5;132;01m}\u001b[39;00m\u001b[38;5;124m failed with error: - \u001b[39m\u001b[38;5;132;01m{\u001b[39;00mpoa_info_status[\u001b[38;5;241m0\u001b[39m]\u001b[38;5;241m.\u001b[39merror\u001b[38;5;132;01m}\u001b[39;00m\u001b[38;5;124m\"\u001b[39m\n\u001b[1;32m   3168\u001b[0m     )\n\u001b[1;32m   3170\u001b[0m \u001b[38;5;28;01mif\u001b[39;00m poa_info_status[\u001b[38;5;241m0\u001b[39m]\u001b[38;5;241m.\u001b[39minfo\u001b[38;5;241m.\u001b[39mget(operation) \u001b[38;5;129;01mis\u001b[39;00m \u001b[38;5;129;01mnot\u001b[39;00m \u001b[38;5;28;01mNone\u001b[39;00m:\n\u001b[1;32m   3171\u001b[0m     \u001b[38;5;28;01mreturn\u001b[39;00m poa_info_status[\u001b[38;5;241m0\u001b[39m]\u001b[38;5;241m.\u001b[39minfo\u001b[38;5;241m.\u001b[39mget(operation)\n",
      "\u001b[0;31mException\u001b[0m: POA - f909d61b-e29a-4ebe-a5e0-239b8b6c1da5/numatune failed with error: - Exception during poa for unit: c384c49b-694f-4c4c-8ff2-a65c91959b09 msg Playbook has failed tasks: non-zero return code"
     ]
    }
   ],
   "source": [
    "server1.pin_cpu(component_name='nic')\n",
    "server2.pin_cpu(component_name='nic2')\n",
    "server3.pin_cpu(component_name='nic3')\n",
    "    \n",
    "# User can also pass in the range of the vCPUs to be pinned \n",
    "#node.pin_cpu(component_name=nic_name, cpu_range_to_pin=\"0-3\")\n",
    "    \n",
    "# Pin memmory for VM to same Numa node as the components\n",
    "server1.numa_tune()\n",
    "server2.numa_tune()\n",
    "server3.numa_tune()\n",
    "        \n",
    "# Reboot the VM\n",
    "# .os_reboot()"
   ]
  },
  {
   "cell_type": "markdown",
   "id": "140c3d65-b23a-406b-a634-c9a58a663287",
   "metadata": {},
   "source": [
    "### Reboot servers"
   ]
  },
  {
   "cell_type": "code",
   "execution_count": null,
   "id": "8418925d-b005-454d-acd2-7cc4b10ba045",
   "metadata": {},
   "outputs": [],
   "source": [
    "server1.os_reboot()\n",
    "server2.os_reboot()\n",
    "server3.os_reboot()"
   ]
  },
  {
   "cell_type": "markdown",
   "id": "fb41eb0e-ccfa-45c7-aad1-fa52fd493c3a",
   "metadata": {},
   "source": [
    "### Install needed dependencies"
   ]
  },
  {
   "cell_type": "code",
   "execution_count": 15,
   "id": "c2779300-9bb6-4605-9f63-b1d8796607ce",
   "metadata": {},
   "outputs": [],
   "source": [
    "stdout, stderr = server1.execute(f'sudo apt-get update', quiet = True)\n",
    "stdout, stderr = server1.execute(f'sudo apt-get install -y build-essential', quiet = True)\n",
    "stdout, stderr = server1.execute(f'sudo apt-get install -y python3-pip', quiet = True)\n",
    "stdout, stderr = server1.execute(f'sudo pip3 install meson ninja', quiet = True)\n",
    "stdout, stderr = server1.execute(f'sudo apt install -y python3-pyelftools', quiet = True)\n",
    "stdout, stderr = server1.execute(f'sudo apt install -y libnuma-dev', quiet = True)\n",
    "stdout, stderr = server1.execute(f'sudo apt install -y pkg-config', quiet = True)\n",
    "stdout, stderr = server1.execute(f'sudo apt install net-tools', quiet = True)\n",
    "stdout, stderr = server1.execute(f'sudo apt install iperf3', quiet = True)\n",
    "stdout, stderr = server1.execute(f'sudo apt install hping3', quiet = True)\n",
    "stdout, stderr = server1.execute(f'sudo apt install tcpdump', quiet = True)\n",
    "\n",
    "#stdout, stderr = server1.execute(f'sudo echo 1024 > /sys/kernel/mm/hugepages/hugepages-2048kB/nr_hugepages')"
   ]
  },
  {
   "cell_type": "code",
   "execution_count": 16,
   "id": "5585a4a4-1416-4088-a23d-25d81ccccfb3",
   "metadata": {},
   "outputs": [],
   "source": [
    "stdout, stderr = server2.execute(f'sudo apt-get update', quiet = True)\n",
    "stdout, stderr = server2.execute(f'sudo apt-get install -y build-essential', quiet = True)\n",
    "stdout, stderr = server2.execute(f'sudo apt-get install -y python3-pip', quiet = True)\n",
    "stdout, stderr = server2.execute(f'sudo pip3 install meson ninja', quiet = True)\n",
    "stdout, stderr = server2.execute(f'sudo apt install -y python3-pyelftools', quiet = True)\n",
    "stdout, stderr = server2.execute(f'sudo apt install -y libnuma-dev', quiet = True)\n",
    "stdout, stderr = server2.execute(f'sudo apt install -y pkg-config', quiet = True)\n",
    "stdout, stderr = server2.execute(f'sudo apt install net-tools', quiet = True)\n",
    "stdout, stderr = server2.execute(f'sudo apt install iperf3', quiet = True)\n",
    "stdout, stderr = server2.execute(f'sudo apt install hping3', quiet = True)\n",
    "stdout, stderr = server2.execute(f'sudo apt install tcpdump', quiet = True)\n",
    "\n",
    "#stdout, stderr = server1.execute(f'sudo echo 1024 > /sys/kernel/mm/hugepages/hugepages-2048kB/nr_hugepages')"
   ]
  },
  {
   "cell_type": "code",
   "execution_count": 17,
   "id": "94b94191-7899-497b-99b4-5de3cfee4195",
   "metadata": {},
   "outputs": [],
   "source": [
    "stdout, stderr = server3.execute(f'sudo apt-get update', quiet = True)\n",
    "stdout, stderr = server3.execute(f'sudo apt-get install -y build-essential', quiet = True)\n",
    "stdout, stderr = server3.execute(f'sudo apt-get install -y python3-pip', quiet = True)\n",
    "stdout, stderr = server3.execute(f'sudo pip3 install meson ninja', quiet = True)\n",
    "stdout, stderr = server3.execute(f'sudo apt install -y python3-pyelftools', quiet = True)\n",
    "stdout, stderr = server3.execute(f'sudo apt install -y libnuma-dev', quiet = True)\n",
    "stdout, stderr = server3.execute(f'sudo apt install -y pkg-config', quiet = True)\n",
    "stdout, stderr = server3.execute(f'sudo apt install net-tools', quiet = True)\n",
    "stdout, stderr = server3.execute(f'sudo apt install iperf3', quiet = True)\n",
    "stdout, stderr = server3.execute(f'sudo apt install hping3', quiet = True)\n",
    "stdout, stderr = server3.execute(f'sudo apt install tcpdump', quiet = True)\n",
    "\n",
    "#stdout, stderr = server1.execute(f'sudo echo 1024 > /sys/kernel/mm/hugepages/hugepages-2048kB/nr_hugepages')"
   ]
  },
  {
   "cell_type": "markdown",
   "id": "52b6def8-e9a1-4f37-ab3b-a2373ae83eaa",
   "metadata": {},
   "source": [
    "### Download, unzip and install Mellanox libraries and enable DPDK"
   ]
  },
  {
   "cell_type": "code",
   "execution_count": 18,
   "id": "943f662c-fd1e-474b-86fa-8319c2e7c5f4",
   "metadata": {},
   "outputs": [],
   "source": [
    "stdout, stderr = server1.execute(f'wget https://content.mellanox.com/ofed/MLNX_OFED-23.07-0.5.0.0/MLNX_OFED_LINUX-23.07-0.5.0.0-ubuntu20.04-x86_64.tgz', quiet = True)\n",
    "stdout, stderr = server1.execute(f'tar xvfz MLNX_OFED_LINUX-23.07-0.5.0.0-ubuntu20.04-x86_64.tgz', quiet=True)\n",
    "stdout, stderr = server1.execute(f'cd MLNX_OFED_LINUX-23.07-0.5.0.0-ubuntu20.04-x86_64 && echo \"y\" | sudo ./mlnxofedinstall --upstream-libs --dpdk --basic --without-fw-update', quiet=True)"
   ]
  },
  {
   "cell_type": "code",
   "execution_count": 3,
   "id": "4c82ae6f-2faf-44d8-b03d-c48e58e3ca01",
   "metadata": {},
   "outputs": [],
   "source": [
    "stdout, stderr = server2.execute(f'wget https://content.mellanox.com/ofed/MLNX_OFED-23.07-0.5.0.0/MLNX_OFED_LINUX-23.07-0.5.0.0-ubuntu20.04-x86_64.tgz', quiet = True)\n",
    "stdout, stderr = server2.execute(f'tar xvfz MLNX_OFED_LINUX-23.07-0.5.0.0-ubuntu20.04-x86_64.tgz', quiet=True)\n",
    "stdout, stderr = server2.execute(f'cd MLNX_OFED_LINUX-23.07-0.5.0.0-ubuntu20.04-x86_64 && echo \"y\" | sudo ./mlnxofedinstall --upstream-libs --dpdk --basic --without-fw-update', quiet=True)"
   ]
  },
  {
   "cell_type": "code",
   "execution_count": 20,
   "id": "272fc2cb-fffe-482a-8c75-8977ab3b1723",
   "metadata": {},
   "outputs": [],
   "source": [
    "stdout, stderr = server3.execute(f'wget https://content.mellanox.com/ofed/MLNX_OFED-23.07-0.5.0.0/MLNX_OFED_LINUX-23.07-0.5.0.0-ubuntu20.04-x86_64.tgz', quiet = True)\n",
    "stdout, stderr = server3.execute(f'tar xvfz MLNX_OFED_LINUX-23.07-0.5.0.0-ubuntu20.04-x86_64.tgz', quiet=True)\n",
    "stdout, stderr = server3.execute(f'cd MLNX_OFED_LINUX-23.07-0.5.0.0-ubuntu20.04-x86_64 && echo \"y\" | sudo ./mlnxofedinstall --upstream-libs --dpdk --basic --without-fw-update', quiet=True)"
   ]
  },
  {
   "cell_type": "markdown",
   "id": "1174b961-74cc-4b35-bbbf-b28bb7455943",
   "metadata": {},
   "source": [
    "### Clone, build and install DPDK"
   ]
  },
  {
   "cell_type": "code",
   "execution_count": 21,
   "id": "bc8de722-aadc-4c36-89aa-5303f8c19b8d",
   "metadata": {},
   "outputs": [],
   "source": [
    "stdout, stderr = server1.execute(f'git clone http://dpdk.org/git/dpdk', quiet = True)\n",
    "stdout, stderr = server1.execute(f'cd dpdk &&  sudo meson build && cd build && sudo ninja && sudo ninja install && sudo ldconfig', quiet = True)"
   ]
  },
  {
   "cell_type": "code",
   "execution_count": 4,
   "id": "a9b0212f-2e36-447b-b677-d23937caecfb",
   "metadata": {},
   "outputs": [],
   "source": [
    "stdout, stderr = server2.execute(f'git clone http://dpdk.org/git/dpdk', quiet = True)\n",
    "stdout, stderr = server2.execute(f'cd dpdk &&  sudo meson build && cd build && sudo ninja && sudo ninja install && sudo ldconfig', quiet = True)"
   ]
  },
  {
   "cell_type": "code",
   "execution_count": 23,
   "id": "f003be77-0540-4550-8e85-f86857874e73",
   "metadata": {},
   "outputs": [],
   "source": [
    "stdout, stderr = server3.execute(f'git clone http://dpdk.org/git/dpdk', quiet = True)\n",
    "stdout, stderr = server3.execute(f'cd dpdk &&  sudo meson build && cd build && sudo ninja && sudo ninja install && sudo ldconfig', quiet = True)"
   ]
  },
  {
   "cell_type": "markdown",
   "id": "f14ca09e-3423-46b4-988e-8082cbad7270",
   "metadata": {},
   "source": [
    "### Restrat to enable configuration (mlnx)"
   ]
  },
  {
   "cell_type": "code",
   "execution_count": 24,
   "id": "f6fb844e-e25f-4d7c-a330-64022675c340",
   "metadata": {},
   "outputs": [
    {
     "name": "stdout",
     "output_type": "stream",
     "text": [
      "Unloading HCA driver:\u001b[60G[  \u001b[1;32mOK\u001b[0;39m  ]\n",
      "\u001b[31m sudo: unable to resolve host server1: Name or service not known\n",
      " \u001b[0mLoading HCA driver and Access Layer:\u001b[60G[  \u001b[1;32mOK\u001b[0;39m  ]\n"
     ]
    }
   ],
   "source": [
    "stdout, stderr = server1.execute(f'sudo /etc/init.d/openibd restart')"
   ]
  },
  {
   "cell_type": "code",
   "execution_count": 5,
   "id": "40b2616f-da51-4bbe-b7f3-41d8d9632fad",
   "metadata": {},
   "outputs": [
    {
     "name": "stdout",
     "output_type": "stream",
     "text": [
      "Unloading HCA driver:\u001b[60G[  \u001b[1;32mOK\u001b[0;39m  ]\n",
      "\u001b[31m sudo: unable to resolve host server2: Name or service not known\n",
      " \u001b[0mLoading HCA driver and Access Layer:\u001b[60G[  \u001b[1;32mOK\u001b[0;39m  ]\n"
     ]
    }
   ],
   "source": [
    "stdout, stderr = server2.execute(f'sudo /etc/init.d/openibd restart')"
   ]
  },
  {
   "cell_type": "code",
   "execution_count": 26,
   "id": "f79e255b-1664-4e2a-9cf8-e3d0d15794d2",
   "metadata": {},
   "outputs": [
    {
     "name": "stdout",
     "output_type": "stream",
     "text": [
      "Unloading HCA driver:\u001b[31m sudo: unable to resolve host server3: Name or service not known\n",
      " \u001b[0m\u001b[60G[  \u001b[1;32mOK\u001b[0;39m  ]\n",
      "Loading HCA driver and Access Layer:\u001b[60G[  \u001b[1;32mOK\u001b[0;39m  ]\n"
     ]
    }
   ],
   "source": [
    "stdout, stderr = server3.execute(f'sudo /etc/init.d/openibd restart')"
   ]
  },
  {
   "cell_type": "markdown",
   "id": "35d86e35-0e30-40b7-a04b-e488672a0f77",
   "metadata": {},
   "source": [
    "# Step 5: Setup pipeline on server 2"
   ]
  },
  {
   "cell_type": "markdown",
   "id": "dd8b969b-1a1e-46ce-b41a-b4579f25896d",
   "metadata": {},
   "source": [
    "## Run the Cmake file of the dpdk pipeline"
   ]
  },
  {
   "cell_type": "code",
   "execution_count": 6,
   "id": "9ae2dde7-d909-4b1d-9cfc-9f98c591f70e",
   "metadata": {},
   "outputs": [],
   "source": [
    "stdout, stderr = server2.execute(f'cd dpdk/examples/pipeline && sudo make', quiet=True)"
   ]
  },
  {
   "cell_type": "markdown",
   "id": "2cc204f1-f56f-47a7-8567-59e16f5792b6",
   "metadata": {},
   "source": [
    "## Upload the needed files to run the pipeline to the server\n",
    "Before running this block make sure you edit the .io and .cli files"
   ]
  },
  {
   "cell_type": "code",
   "execution_count": 28,
   "id": "dfb835c4-56f2-41a7-8dff-4956af2e41f6",
   "metadata": {},
   "outputs": [],
   "source": [
    "# server2.upload_file('test.p4','test.p4')\n",
    "# server2.upload_file('test.cli','test.cli')\n",
    "# server2.upload_file('ethdev.io','ethdev.io')"
   ]
  },
  {
   "cell_type": "markdown",
   "id": "f90ee2e8-04fc-4bd6-83b1-ef9de6a2e3c4",
   "metadata": {},
   "source": [
    "## Setup the p4c compiler"
   ]
  },
  {
   "cell_type": "code",
   "execution_count": 7,
   "id": "57e05849-0060-4036-b311-961a044b6928",
   "metadata": {
    "tags": []
   },
   "outputs": [],
   "source": [
    "stdout, stderr = server2.execute('source /etc/lsb-release && echo \"deb http://download.opensuse.org/repositories/home:/p4lang/xUbuntu_${DISTRIB_RELEASE}/ /\" | sudo tee /etc/apt/sources.list.d/home:p4lang.list && curl -fsSL https://download.opensuse.org/repositories/home:p4lang/xUbuntu_${DISTRIB_RELEASE}/Release.key | gpg --dearmor | sudo tee /etc/apt/trusted.gpg.d/home_p4lang.gpg > /dev/null && sudo apt-get update && sudo apt install -y p4lang-p4c', quiet = True)"
   ]
  },
  {
   "cell_type": "code",
   "execution_count": 30,
   "id": "cf7560df-c090-454c-8a73-df615356981c",
   "metadata": {},
   "outputs": [],
   "source": [
    "# stdout, stderr = server1.execute(f'sudo p4c-dpdk --arch=psa test.p4 -o test.spec && cp test.spec dpdk/examples/pipeline/examples/ && cp ethdev.io dpdk/examples/pipeline/examples/')\n",
    "# stdout, stderr = server1.execute(f'cp test.cli dpdk/examples/pipeline/examples/')"
   ]
  },
  {
   "cell_type": "markdown",
   "id": "126ffed0-69ce-446e-b6c7-522f11f4aec1",
   "metadata": {},
   "source": [
    "## Reserve memory resources"
   ]
  },
  {
   "cell_type": "code",
   "execution_count": 46,
   "id": "01aa2ce7-9be5-4084-9aaa-2b9ff0b143cd",
   "metadata": {},
   "outputs": [
    {
     "name": "stdout",
     "output_type": "stream",
     "text": [
      "\u001b[31m sudo: unable to resolve host server1: Name or service not known\n",
      " \u001b[0m"
     ]
    }
   ],
   "source": [
    "stdout, stderr = server1.execute(f' sudo sh -c  \"echo 1024 > /sys/kernel/mm/hugepages/hugepages-2048kB/nr_hugepages\"')"
   ]
  },
  {
   "cell_type": "markdown",
   "id": "413c4ecb-498c-4faa-b810-65a14a14a14f",
   "metadata": {},
   "source": [
    "2048"
   ]
  },
  {
   "cell_type": "code",
   "execution_count": 5,
   "id": "d69e159e-c34a-4fc5-b1c2-d1e177b361c5",
   "metadata": {},
   "outputs": [
    {
     "name": "stdout",
     "output_type": "stream",
     "text": [
      "\u001b[31m sudo: unable to resolve host server2: Name or service not known\n",
      " \u001b[0m"
     ]
    }
   ],
   "source": [
    "stdout, stderr = server2.execute(f' sudo sh -c  \"echo 1024 > /sys/kernel/mm/hugepages/hugepages-2048kB/nr_hugepages\"')"
   ]
  },
  {
   "cell_type": "code",
   "execution_count": 33,
   "id": "c4fb6dd2-53ba-4b0e-a836-d368c27cfc93",
   "metadata": {},
   "outputs": [
    {
     "name": "stdout",
     "output_type": "stream",
     "text": [
      "\u001b[31m sudo: unable to resolve host server3: Name or service not known\n",
      " \u001b[0m"
     ]
    }
   ],
   "source": [
    "stdout, stderr = server3.execute(f' sudo sh -c  \"echo 1024 > /sys/kernel/mm/hugepages/hugepages-2048kB/nr_hugepages\"')"
   ]
  },
  {
   "cell_type": "markdown",
   "id": "b5de3dd5-2d03-45bb-aac5-30195ef623fd",
   "metadata": {},
   "source": [
    "## (in server 2 terminal) run MLNX Commands"
   ]
  },
  {
   "cell_type": "code",
   "execution_count": 40,
   "id": "15800803-dfbd-4560-a3c0-7d8833741fff",
   "metadata": {},
   "outputs": [],
   "source": [
    "# stdout, stderr = server2.execute(f'sudo ibdev2netdev')\n",
    "# stdout, stderr = server2.execute(f'sudo mst status')\n",
    "# stdout, stderr = server2.execute(f'sudo mst start')\n",
    "# stdout, stderr = server2.execute(f'sudo mst status')"
   ]
  },
  {
   "cell_type": "markdown",
   "id": "b5c2564d-3780-42f0-bf29-f52499f6c223",
   "metadata": {},
   "source": [
    "# Step 6: Setup communication requirements on servers"
   ]
  },
  {
   "cell_type": "markdown",
   "id": "d1e97f2a-43e9-465b-86a0-e81244728fbe",
   "metadata": {},
   "source": [
    "## Set IP Addresses on all servers\n",
    "use \"ifconfig\" to see turned-up interfaces\n",
    "\n",
    "use \"lspci\" to see connected interfaces \n",
    "\n",
    "use \"ip link\" to know the correct interface name\n",
    "\n",
    "use \"ip route\" to see routing table\n",
    "\n",
    "use \"arp\" to see arp routes"
   ]
  },
  {
   "cell_type": "code",
   "execution_count": 12,
   "id": "866535ba-4d0f-4458-975d-0d8bedeb4d92",
   "metadata": {},
   "outputs": [
    {
     "name": "stdout",
     "output_type": "stream",
     "text": [
      "\u001b[31m sudo: unable to resolve host server1: Name or service not known\n",
      " \u001b[0m\u001b[31m sudo: unable to resolve host server1: Name or service not known\n",
      " \u001b[0m\u001b[31m sudo: unable to resolve host server1: Name or service not known\n",
      " \u001b[0m\u001b[31m sudo: unable to resolve host server1: Name or service not known\n",
      " \u001b[0m"
     ]
    }
   ],
   "source": [
    "server1 = slice.get_node(name=\"server1\")     \n",
    "\n",
    "stdout, stderr = server1.execute(f'sudo apt-get update && sudo apt-get install -y net-tools', quiet=True)\n",
    "stdout, stderr = server1.execute(f'sudo ip link set dev enp7s0np0 up')\n",
    "stdout, stderr = server1.execute(f'sudo ifconfig enp7s0np0 198.18.0.10/24')\n",
    "stdout, stderr = server1.execute(f'sudo ifconfig enp7s0np0 hw ether 00:10:00:00:00:00')\n",
    "stdout, stderr = server1.execute(f'sudo arp -s 198.18.0.20 00:21:00:00:00:00')\n",
    "#stdout, stderr = server1.execute(f'sudo hping3 198.18.0.20 --flood --data 1460') #use multi process, nload, htop\n"
   ]
  },
  {
   "cell_type": "code",
   "execution_count": 9,
   "id": "6a7c0bca-a67f-4eef-88e4-d7ef1b5c8021",
   "metadata": {},
   "outputs": [
    {
     "name": "stdout",
     "output_type": "stream",
     "text": [
      "\u001b[31m sudo: unable to resolve host server2: Name or service not known\n",
      " \u001b[0m\u001b[31m sudo: unable to resolve host server2: Name or service not known\n",
      " \u001b[0m\u001b[31m sudo: unable to resolve host server2: Name or service not known\n",
      " \u001b[0m\u001b[31m sudo: unable to resolve host server2: Name or service not known\n",
      " \u001b[0m\u001b[31m sudo: unable to resolve host server2: Name or service not known\n",
      " \u001b[0m\u001b[31m sudo: unable to resolve host server2: Name or service not known\n",
      " \u001b[0m\u001b[31m sudo: unable to resolve host server2: Name or service not known\n",
      " \u001b[0m\u001b[31m sudo: unable to resolve host server2: Name or service not known\n",
      " \u001b[0m"
     ]
    }
   ],
   "source": [
    "server2 = slice.get_node(name=\"server2\")     \n",
    "\n",
    "stdout, stderr = server2.execute(f'sudo apt-get update && sudo apt-get install -y net-tools', quiet=True)\n",
    "\n",
    "stdout, stderr = server2.execute(f'sudo ip link set dev enp7s0np0 up')\n",
    "stdout, stderr = server2.execute(f'sudo ifconfig enp7s0np0 198.18.0.20/24')\n",
    "stdout, stderr = server2.execute(f'sudo ifconfig enp7s0np0 hw ether 00:21:00:00:00:00')\n",
    "\n",
    "stdout, stderr = server2.execute(f'sudo ip link set dev enp8s0np1 up')\n",
    "stdout, stderr = server2.execute(f'sudo ifconfig enp8s0np1 198.18.1.20/24')\n",
    "stdout, stderr = server2.execute(f'sudo ifconfig enp8s0np1 hw ether 00:22:00:00:00:00')\n",
    "\n",
    "stdout, stderr = server2.execute(f'sudo arp -s 198.18.0.10 00:10:00:00:00:00')\n",
    "stdout, stderr = server2.execute(f'sudo arp -s 198.18.1.30 00:30:00:00:00:00')\n",
    "#stdout, stderr = server2.execute(f'sudo hping3 198.18.0.20 --flood --data 1460') #use multi process, nload, htop\n"
   ]
  },
  {
   "cell_type": "code",
   "execution_count": 13,
   "id": "9aa915bf-cbd8-4ff5-a979-7a9590ecba62",
   "metadata": {},
   "outputs": [
    {
     "name": "stdout",
     "output_type": "stream",
     "text": [
      "\u001b[31m sudo: unable to resolve host server3: Name or service not known\n",
      " \u001b[0m\u001b[31m sudo: unable to resolve host server3: Name or service not known\n",
      " \u001b[0m\u001b[31m sudo: unable to resolve host server3: Name or service not known\n",
      " \u001b[0m\u001b[31m sudo: unable to resolve host server3: Name or service not known\n",
      " \u001b[0m"
     ]
    }
   ],
   "source": [
    "server3 = slice.get_node(name=\"server3\")     \n",
    "\n",
    "stdout, stderr = server3.execute(f'sudo apt-get update && sudo apt-get install -y net-tools', quiet=True)\n",
    "stdout, stderr = server3.execute(f'sudo ip link set dev enp7s0np0 up')\n",
    "stdout, stderr = server3.execute(f'sudo ifconfig enp7s0np0 198.18.1.30/24')\n",
    "stdout, stderr = server3.execute(f'sudo ifconfig enp7s0np0 hw ether 00:30:00:00:00:00')\n",
    "stdout, stderr = server3.execute(f'sudo arp -s 198.18.1.20 00:22:00:00:00:00')\n",
    "#stdout, stderr = server3.execute(f'sudo hping3 198.18.0.20 --flood --data 1460') #use multi process, nload, htop\n"
   ]
  },
  {
   "cell_type": "code",
   "execution_count": 45,
   "id": "b075f3cc-d695-4d8b-b376-c416cdaa375f",
   "metadata": {},
   "outputs": [],
   "source": [
    "# stdout, stderr = server3.execute(f'sudo ip link set dev enp8s0np1 down')\n",
    "# stdout, stderr = server3.execute(f'sudo ifconfig enp8s0np1 198.18.2.30/24')\n",
    "# stdout, stderr = server3.execute(f'sudo ifconfig enp8s0np1 hw ether 00:32:00:00:00:00')\n",
    "# stdout, stderr = server3.execute(f'sudo arp -s 198.18.1.20 00:22:00:00:00:00')"
   ]
  },
  {
   "cell_type": "markdown",
   "id": "58111b86-c38e-45fb-9b84-f9c5065728ee",
   "metadata": {},
   "source": [
    "## Clone Pktgen-DPDK on servers 1 & 3"
   ]
  },
  {
   "cell_type": "code",
   "execution_count": 38,
   "id": "9af37c5f-57f4-487c-bd35-2a509d82001b",
   "metadata": {},
   "outputs": [
    {
     "name": "stdout",
     "output_type": "stream",
     "text": [
      "\u001b[31m sudo: unable to resolve host server1: Name or service not known\n",
      "Cloning into 'Pktgen-DPDK'...\n",
      " \u001b[0m\u001b[31m sudo: unable to resolve host server1: Name or service not known\n",
      " \u001b[0m"
     ]
    }
   ],
   "source": [
    "stdout, stderr = server1.execute(f'sudo git clone https://github.com/pktgen/Pktgen-DPDK')\n",
    "stdout, stderr = server1.execute(\"sudo sed -i '40s/.*/deps += [dependency('\\'numa\\'', required: false)]/' /home/ubuntu/Pktgen-DPDK/app/meson.build\")"
   ]
  },
  {
   "cell_type": "code",
   "execution_count": 39,
   "id": "766d947f-bfb4-4776-8f7a-b03b83ebfc7b",
   "metadata": {},
   "outputs": [
    {
     "name": "stdout",
     "output_type": "stream",
     "text": [
      "\u001b[31m sudo: unable to resolve host server3: Name or service not known\n",
      "Cloning into 'Pktgen-DPDK'...\n",
      " \u001b[0m\u001b[31m sudo: unable to resolve host server3: Name or service not known\n",
      " \u001b[0m"
     ]
    }
   ],
   "source": [
    "stdout, stderr = server3.execute(f'sudo git clone https://github.com/pktgen/Pktgen-DPDK')\n",
    "stdout, stderr = server3.execute(\"sudo sed -i '40s/.*/deps += [dependency('\\'numa\\'', required: false)]/' /home/ubuntu/Pktgen-DPDK/app/meson.build\")"
   ]
  },
  {
   "cell_type": "markdown",
   "id": "6484b73d-87de-4e13-a339-2f51c58aeda5",
   "metadata": {},
   "source": [
    "For the second instruction, make sure there is single quotes around numa in the file (to make changes, run in server 1terminal: cd Pktgen-DPDK/app && sudo vim meson.build)"
   ]
  },
  {
   "cell_type": "code",
   "execution_count": 40,
   "id": "e4ac14c1-6380-4ae8-9010-b85106f076ca",
   "metadata": {},
   "outputs": [
    {
     "name": "stdout",
     "output_type": "stream",
     "text": [
      "Reading package lists...\u001b[31m sudo: unable to resolve host server1: Name or service not known\n",
      " \u001b[0m\n",
      "Building dependency tree...\n",
      "Reading state information...\n",
      "The following additional packages will be installed:\n",
      "  cmake-data libjsoncpp1 librhash0\n",
      "Suggested packages:\n",
      "  cmake-doc ninja-build\n",
      "The following NEW packages will be installed:\n",
      "  cmake cmake-data libjsoncpp1 librhash0\n",
      "0 upgraded, 4 newly installed, 0 to remove and 53 not upgraded.\n",
      "Need to get 5470 kB of archives.\n",
      "After this operation, 28.3 MB of additional disk space will be used.\n",
      "Get:1 http://nova.clouds.archive.ubuntu.com/ubuntu focal-updates/main amd64 cmake-data all 3.16.3-1ubuntu1.20.04.1 [1613 kB]\n",
      "Get:2 http://nova.clouds.archive.ubuntu.com/ubuntu focal/main amd64 libjsoncpp1 amd64 1.7.4-3.1ubuntu2 [75.6 kB]\n",
      "Get:3 http://nova.clouds.archive.ubuntu.com/ubuntu focal/main amd64 librhash0 amd64 1.3.9-1 [113 kB]\n",
      "Get:4 http://nova.clouds.archive.ubuntu.com/ubuntu focal-updates/main amd64 cmake amd64 3.16.3-1ubuntu1.20.04.1 [3668 kB]\n",
      "\u001b[31m debconf: unable to initialize frontend: Dialog\n",
      "debconf: (Dialog frontend will not work on a dumb terminal, an emacs shell buffer, or without a controlling terminal.)\n",
      "debconf: falling back to frontend: Readline\n",
      " \u001b[0mFetched 5470 kB in 1s (4238 kB/s)\n",
      "\u001b[31m debconf: unable to initialize frontend: Readline\n",
      "debconf: (This frontend requires a controlling tty.)\n",
      "debconf: falling back to frontend: Teletype\n",
      "dpkg-preconfigure: unable to re-open stdin: \n",
      " \u001b[0mSelecting previously unselected package cmake-data.\n",
      "(Reading database ... 77137 files and directories currently installed.)\n",
      "Preparing to unpack .../cmake-data_3.16.3-1ubuntu1.20.04.1_all.deb ...\n",
      "Unpacking cmake-data (3.16.3-1ubuntu1.20.04.1) ...\n",
      "Selecting previously unselected package libjsoncpp1:amd64.\n",
      "Preparing to unpack .../libjsoncpp1_1.7.4-3.1ubuntu2_amd64.deb ...\n",
      "Unpacking libjsoncpp1:amd64 (1.7.4-3.1ubuntu2) ...\n",
      "Selecting previously unselected package librhash0:amd64.\n",
      "Preparing to unpack .../librhash0_1.3.9-1_amd64.deb ...\n",
      "Unpacking librhash0:amd64 (1.3.9-1) ...\n",
      "Selecting previously unselected package cmake.\n",
      "Preparing to unpack .../cmake_3.16.3-1ubuntu1.20.04.1_amd64.deb ...\n",
      "Unpacking cmake (3.16.3-1ubuntu1.20.04.1) ...\n",
      "Setting up librhash0:amd64 (1.3.9-1) ...\n",
      "Setting up cmake-data (3.16.3-1ubuntu1.20.04.1) ...\n",
      "Setting up libjsoncpp1:amd64 (1.7.4-3.1ubuntu2) ...\n",
      "Setting up cmake (3.16.3-1ubuntu1.20.04.1) ...\n",
      "Processing triggers for man-db (2.9.1-1) ...\n",
      "Processing triggers for libc-bin (2.31-0ubuntu9.14) ...\n",
      "Reading package lists...\n",
      "Building dependency tree...\u001b[31m sudo: unable to resolve host server1: Name or service not known\n",
      " \u001b[0m\n",
      "Reading state information...\n",
      "The following additional packages will be installed:\n",
      "  libpcap0.8-dev\n",
      "The following NEW packages will be installed:\n",
      "  libpcap-dev libpcap0.8-dev\n",
      "0 upgraded, 2 newly installed, 0 to remove and 53 not upgraded.\n",
      "Need to get 248 kB of archives.\n",
      "After this operation, 852 kB of additional disk space will be used.\n",
      "Get:1 http://nova.clouds.archive.ubuntu.com/ubuntu focal/main amd64 libpcap0.8-dev amd64 1.9.1-3 [244 kB]\n",
      "Get:2 http://nova.clouds.archive.ubuntu.com/ubuntu focal/main amd64 libpcap-dev amd64 1.9.1-3 [3484 B]\n",
      "\u001b[31m debconf: unable to initialize frontend: Dialog\n",
      "debconf: (Dialog frontend will not work on a dumb terminal, an emacs shell buffer, or without a controlling terminal.)\n",
      "debconf: falling back to frontend: Readline\n",
      " \u001b[0m\u001b[31m debconf: unable to initialize frontend: Readline\n",
      "debconf: (This frontend requires a controlling tty.)\n",
      "debconf: falling back to frontend: Teletype\n",
      " \u001b[0mFetched 248 kB in 1s (276 kB/s)\n",
      "\u001b[31m dpkg-preconfigure: unable to re-open stdin: \n",
      " \u001b[0mSelecting previously unselected package libpcap0.8-dev:amd64.\n",
      "(Reading database ... 79928 files and directories currently installed.)\n",
      "Preparing to unpack .../libpcap0.8-dev_1.9.1-3_amd64.deb ...\n",
      "Unpacking libpcap0.8-dev:amd64 (1.9.1-3) ...\n",
      "Selecting previously unselected package libpcap-dev:amd64.\n",
      "Preparing to unpack .../libpcap-dev_1.9.1-3_amd64.deb ...\n",
      "Unpacking libpcap-dev:amd64 (1.9.1-3) ...\n",
      "Setting up libpcap0.8-dev:amd64 (1.9.1-3) ...\n",
      "Setting up libpcap-dev:amd64 (1.9.1-3) ...\n",
      "Processing triggers for man-db (2.9.1-1) ...\n",
      "The Meson build system\n",
      "Version: 1.3.2\n",
      "Source dir: /home/ubuntu/Pktgen-DPDK\n",
      "Build dir: /home/ubuntu/Pktgen-DPDK/build\n",
      "Build type: native build\n",
      "Program cat found: YES (/usr/bin/cat)\n",
      "Project name: pktgen\n",
      "Project version: 23.10.2\n",
      "C compiler for the host machine: cc (gcc 9.4.0 \"cc (Ubuntu 9.4.0-1ubuntu1~20.04.2) 9.4.0\")\n",
      "C linker for the host machine: cc ld.bfd 2.34\n",
      "Host machine cpu family: x86_64\n",
      "Host machine cpu: x86_64\n",
      "Compiler for C supports arguments -mavx: YES \n",
      "Compiler for C supports arguments -mavx2: YES \n",
      "Compiler for C supports arguments -Wno-pedantic: YES \n",
      "Compiler for C supports arguments -Wno-format-truncation: YES \n",
      "Found pkg-config: YES (/usr/bin/pkg-config) 0.29.1\n",
      "Run-time dependency libdpdk found: YES 24.03.0-rc1\n",
      "Message: prefix: /usr/local libdir: lib/x86_64-linux-gnu\n",
      "Message: DPDK lib path: /usr/local/lib/x86_64-linux-gnu\n",
      "WARNING: find_library('librte_net_bond') starting in \"lib\" only works by accident and is not portable\n",
      "Library librte_net_bond found: YES\n",
      "Program python3 found: YES (/usr/bin/python3)\n",
      "Library rte_net_i40e found: YES\n",
      "Library rte_net_ixgbe found: YES\n",
      "Library rte_net_ice found: YES\n",
      "Library rte_bus_vdev found: YES\n",
      "Run-time dependency threads found: YES\n",
      "Found CMake: /usr/bin/cmake (3.16.3)\n",
      "DEPRECATION: CMake support for versions <3.17 is deprecated since Meson 0.62.0.\n",
      "|\n",
      "|   However, Meson was only able to find CMake 3.16.3.\n",
      "|\n",
      "|   Support for all CMake versions below 3.17.0 will be removed once\n",
      "|   newer CMake versions are more widely adopted. If you encounter\n",
      "|   any errors please try upgrading CMake to a newer version first.\n",
      "\n",
      "Run-time dependency numa found: NO (tried pkgconfig and cmake)\n",
      "Run-time dependency pcap found: YES 1.9.1\n",
      "Library dl found: YES\n",
      "Library m found: YES\n",
      "Program doxygen found: NO\n",
      "Program sphinx-build found: NO\n",
      "Build targets in project: 9\n",
      "NOTICE: Future-deprecated features used:\n",
      " * 0.56.0: {'dependency.get_pkgconfig_variable'}\n",
      "\n",
      "Found ninja-1.11.1.git.kitware.jobserver-1 at /usr/local/bin/ninja\n",
      "WARNING: Running the setup command as `meson [options]` instead of `meson setup [options]` is ambiguous and deprecated.\n",
      "\u001b[31m sudo: unable to resolve host server1: Name or service not known\n",
      " \u001b[0m\u001b[31m sudo: unable to resolve host server1: Name or service not known\n",
      " \u001b[0mninja: Entering directory `build'\n",
      "[1/69] Compiling C object lib/common/libcommon.a.p/cmdline_parse_args.c.o\n",
      "[2/69] Compiling C object lib/cli/libcli.a.p/cli_cmap.c.o\n",
      "[3/69] Compiling C object lib/common/libcommon.a.p/coremap.c.o\n",
      "[4/69] Compiling C object lib/utils/libutils.a.p/heap.c.o\n",
      "[5/69] Compiling C object lib/common/libcommon.a.p/copyright_info.c.o\n",
      "[6/69] Compiling C object lib/common/libcommon.a.p/core_info.c.o\n",
      "[7/69] Compiling C object lib/fgen/libfgen.a.p/unparse.c.o\n",
      "[8/69] Compiling C object lib/common/libcommon.a.p/port_config.c.o\n",
      "[9/69] Compiling C object lib/common/libcommon.a.p/pg_pcap.c.o\n",
      "[10/69] Compiling C object lib/common/libcommon.a.p/cksum.c.o\n",
      "[11/69] Compiling C object lib/utils/libutils.a.p/_atoip.c.o\n",
      "[12/69] Compiling C object lib/utils/libutils.a.p/portlist.c.o\n",
      "[13/69] Compiling C object lib/cli/libcli.a.p/cli_gapbuf.c.o\n",
      "[14/69] Compiling C object lib/common/libcommon.a.p/utils.c.o\n",
      "[15/69] Compiling C object lib/lua/liblua.a.p/lua_config.c.o\n",
      "[16/69] Compiling C object lib/common/libcommon.a.p/pg_strings.c.o\n",
      "[17/69] Linking static target lib/utils/libutils.a\n",
      "[18/69] Compiling C object lib/common/libcommon.a.p/lscpu.c.o\n",
      "[19/69] Compiling C object lib/fgen/libfgen.a.p/fgen.c.o\n",
      "[20/69] Compiling C object lib/cli/libcli.a.p/cli_env.c.o\n",
      "[21/69] Compiling C object lib/vec/libvec.a.p/vec.c.o\n",
      "[22/69] Compiling C object lib/plugin/libplugin.a.p/plugin.c.o\n",
      "[23/69] Compiling C object lib/cli/libcli.a.p/cli_file.c.o\n",
      "[24/69] Linking static target lib/lua/liblua.a\n",
      "[25/69] Linking static target lib/vec/libvec.a\n",
      "[26/69] Linking static target lib/plugin/libplugin.a\n",
      "[27/69] Compiling C object lib/common/libcommon.a.p/l2p.c.o\n",
      "[28/69] Compiling C object lib/cli/libcli.a.p/cli_help.c.o\n",
      "[29/69] Compiling C object lib/cli/libcli.a.p/cli_auto_complete.c.o\n",
      "[30/69] Linking static target lib/common/libcommon.a\n",
      "[31/69] Compiling C object lib/cli/libcli.a.p/cli_history.c.o\n",
      "[32/69] Compiling C object lib/cli/libcli.a.p/cli.c.o\n",
      "[33/69] Compiling C object lib/cli/libcli.a.p/cli_cmds.c.o\n",
      "[34/69] Compiling C object lib/fgen/libfgen.a.p/parse.c.o\n",
      "[35/69] Compiling C object lib/cli/libcli.a.p/cli_input.c.o\n",
      "[36/69] Compiling C object lib/cli/libcli.a.p/cli_map.c.o\n",
      "[37/69] Compiling C object lib/cli/libcli.a.p/cli_scrn.c.o\n",
      "[38/69] Linking static target lib/fgen/libfgen.a\n",
      "[39/69] Compiling C object lib/cli/libcli.a.p/cli_search.c.o\n",
      "[40/69] Compiling C object app/pktgen.p/pktgen-seq.c.o\n",
      "[41/69] Compiling C object app/pktgen.p/pktgen-cfg.c.o\n",
      "[42/69] Compiling C object app/pktgen.p/pktgen-cpu.c.o\n",
      "[43/69] Compiling C object app/pktgen.p/pktgen-dump.c.o\n",
      "[44/69] Compiling C object app/pktgen.p/pktgen-ipv6.c.o\n",
      "[45/69] Compiling C object app/pktgen.p/pktgen-pcap.c.o\n",
      "[46/69] Compiling C object app/pktgen.p/pktgen-main.c.o\n",
      "[47/69] Compiling C object app/pktgen.p/pktgen-capture.c.o\n",
      "[48/69] Compiling C object app/pktgen.p/pktgen-ether.c.o\n",
      "[49/69] Compiling C object lib/cli/libcli.a.p/cli_vt100.c.o\n",
      "[50/69] Compiling C object app/pktgen.p/pktgen-gre.c.o\n",
      "[51/69] Linking static target lib/cli/libcli.a\n",
      "[52/69] Compiling C object app/pktgen.p/pktgen-range.c.o\n",
      "[53/69] Compiling C object app/pktgen.p/pktgen-arp.c.o\n",
      "[54/69] Compiling C object app/pktgen.p/pktgen-tcp.c.o\n",
      "[55/69] Compiling C object app/pktgen.p/pktgen-udp.c.o\n",
      "[56/69] Compiling C object app/pktgen.p/pktgen-vlan.c.o\n",
      "[57/69] Compiling C object app/pktgen.p/pktgen-ipv4.c.o\n",
      "[58/69] Compiling C object app/pktgen.p/pktgen-random.c.o\n",
      "[59/69] Compiling C object app/pktgen.p/pktgen-stats.c.o\n",
      "[60/69] Compiling C object app/pktgen.p/pktgen-port-cfg.c.o\n",
      "[61/69] Compiling C object app/pktgen.p/pktgen-gtpu.c.o\n",
      "[62/69] Compiling C object app/pktgen.p/pktgen-display.c.o\n",
      "[63/69] Compiling C object app/pktgen.p/pktgen-log.c.o\n",
      "[64/69] Compiling C object app/pktgen.p/pktgen-latency.c.o\n",
      "[65/69] Compiling C object app/pktgen.p/pktgen-rate.c.o\n",
      "[66/69] Compiling C object app/pktgen.p/pktgen.c.o\n",
      "[67/69] Compiling C object app/pktgen.p/cli-functions.c.o\n",
      "[68/69] Compiling C object app/pktgen.p/pktgen-cmds.c.o\n",
      "[69/69] Linking target app/pktgen\n",
      "\u001b[31m sudo: unable to resolve host server1: Name or service not known\n",
      " \u001b[0mninja: Entering directory `/home/ubuntu/Pktgen-DPDK/build'\n",
      "ninja: no work to do.\n",
      "Installing app/pktgen to /usr/local/bin\n"
     ]
    }
   ],
   "source": [
    "stdout, stderr = server1.execute(f'sudo apt-get install -y cmake')\n",
    "stdout, stderr = server1.execute(f'sudo apt-get install -y libpcap-dev')\n",
    "stdout, stderr = server1.execute(f'cd Pktgen-DPDK &&  sudo meson build && sudo ninja -C build && cd build/ && sudo meson install')"
   ]
  },
  {
   "cell_type": "code",
   "execution_count": 48,
   "id": "a48f4abb-c151-416a-ae59-30f677d62928",
   "metadata": {},
   "outputs": [
    {
     "name": "stdout",
     "output_type": "stream",
     "text": [
      "Reading package lists...\n",
      "\u001b[31m sudo: unable to resolve host server3: Name or service not known\n",
      " \u001b[0mBuilding dependency tree...\n",
      "Reading state information...\n",
      "cmake is already the newest version (3.16.3-1ubuntu1.20.04.1).\n",
      "0 upgraded, 0 newly installed, 0 to remove and 53 not upgraded.\n",
      "Reading package lists...\n",
      "Building dependency tree...\u001b[31m sudo: unable to resolve host server3: Name or service not known\n",
      " \u001b[0m\n",
      "Reading state information...\n",
      "libpcap-dev is already the newest version (1.9.1-3).\n",
      "0 upgraded, 0 newly installed, 0 to remove and 53 not upgraded.\n",
      "Directory already configured.\n",
      "\n",
      "Just run your build command (e.g. ninja) and Meson will regenerate as necessary.\n",
      "Run \"meson setup --reconfigure to force Meson to regenerate.\n",
      "\n",
      "If build failures persist, run \"meson setup --wipe\" to rebuild from scratch\n",
      "using the same options as passed when configuring the build.\n",
      "WARNING: Running the setup command as `meson [options]` instead of `meson setup [options]` is ambiguous and deprecated.\n",
      "\u001b[31m sudo: unable to resolve host server3: Name or service not known\n",
      " \u001b[0m\u001b[31m sudo: unable to resolve host server3: Name or service not known\n",
      " \u001b[0mninja: Entering directory `build'\n",
      "ninja: no work to do.\n",
      "\u001b[31m sudo: unable to resolve host server3: Name or service not known\n",
      " \u001b[0mninja: Entering directory `/home/ubuntu/Pktgen-DPDK/build'\n",
      "ninja: no work to do.\n",
      "Installing app/pktgen to /usr/local/bin\n"
     ]
    }
   ],
   "source": [
    "stdout, stderr = server3.execute(f'sudo apt-get install -y cmake')\n",
    "stdout, stderr = server3.execute(f'sudo apt-get install -y libpcap-dev')\n",
    "stdout, stderr = server3.execute(f'cd Pktgen-DPDK &&  sudo meson build && sudo ninja -C build && cd build/ && sudo meson install')"
   ]
  },
  {
   "cell_type": "markdown",
   "id": "126a67f8-7c51-4e16-b46c-1c0509a52b62",
   "metadata": {},
   "source": [
    "# Step 7: Upload and compile"
   ]
  },
  {
   "cell_type": "code",
   "execution_count": 36,
   "id": "6678d7e1-ce27-4a9d-bc1a-736a96de70a6",
   "metadata": {},
   "outputs": [
    {
     "data": {
      "text/plain": [
       "<SFTPAttributes: [ size=309 uid=1000 gid=1000 mode=0o100664 atime=1710113975 mtime=1710214184 ]>"
      ]
     },
     "execution_count": 36,
     "metadata": {},
     "output_type": "execute_result"
    }
   ],
   "source": [
    "server1.upload_file('ethtool.sh','ethtool.sh')\n",
    "server3.upload_file('ethtool.sh','ethtool.sh')"
   ]
  },
  {
   "cell_type": "markdown",
   "id": "b32b218e-f8e3-487f-8f1f-c9138cef18f4",
   "metadata": {
    "jp-MarkdownHeadingCollapsed": true,
    "tags": []
   },
   "source": [
    "## To upload and compile PSA P4 example: test_PSA_1.p4"
   ]
  },
  {
   "cell_type": "code",
   "execution_count": 14,
   "id": "ee9cccc8-368b-4cae-87d1-8c50713ca9c0",
   "metadata": {},
   "outputs": [
    {
     "name": "stdout",
     "output_type": "stream",
     "text": [
      "\u001b[31m sudo: unable to resolve host server2: Name or service not known\n",
      "sudo: unable to resolve host server2: Name or service not known\n",
      "sudo: unable to resolve host server2: Name or service not known\n",
      " \u001b[0m\u001b[31m sudo: unable to resolve host server2: Name or service not known\n",
      " \u001b[0m"
     ]
    }
   ],
   "source": [
    "server2.upload_file('test_PSA_1p0.p4','test.p4')\n",
    "server2.upload_file('test.cli','test.cli')\n",
    "server2.upload_file('ethdev.io','ethdev.io')\n",
    "stdout, stderr = server2.execute(f'sudo p4c-dpdk --arch=psa test.p4 -o test.spec && sudo cp test.spec dpdk/examples/pipeline/examples/ && sudo cp ethdev.io dpdk/examples/pipeline/examples/ ')\n",
    "stdout, stderr = server2.execute(f'sudo cp test.cli dpdk/examples/pipeline/examples/')"
   ]
  },
  {
   "cell_type": "code",
   "execution_count": 16,
   "id": "eef54294-e435-42a6-9223-0d365c57a0bd",
   "metadata": {},
   "outputs": [
    {
     "name": "stdout",
     "output_type": "stream",
     "text": [
      "\u001b[31m sudo: unable to resolve host server2: Name or service not known\n",
      "sudo: unable to resolve host server2: Name or service not known\n",
      "sudo: unable to resolve host server2: Name or service not known\n",
      " \u001b[0m\u001b[31m sudo: unable to resolve host server2: Name or service not known\n",
      " \u001b[0m"
     ]
    }
   ],
   "source": [
    "server2.upload_file('test_PSA_1p1.p4','test.p4')\n",
    "server2.upload_file('test.cli','test.cli')\n",
    "server2.upload_file('ethdev.io','ethdev.io')\n",
    "stdout, stderr = server2.execute(f'sudo p4c-dpdk --arch=psa test.p4 -o test.spec && sudo cp test.spec dpdk/examples/pipeline/examples/ && sudo cp ethdev.io dpdk/examples/pipeline/examples/ ')\n",
    "stdout, stderr = server2.execute(f'sudo cp test.cli dpdk/examples/pipeline/examples/')"
   ]
  },
  {
   "cell_type": "code",
   "execution_count": 17,
   "id": "63252511-cc36-4a50-a124-7f8c4fd7f71f",
   "metadata": {},
   "outputs": [
    {
     "name": "stdout",
     "output_type": "stream",
     "text": [
      "\u001b[31m sudo: unable to resolve host server2: Name or service not known\n",
      "sudo: unable to resolve host server2: Name or service not known\n",
      "sudo: unable to resolve host server2: Name or service not known\n",
      " \u001b[0m\u001b[31m sudo: unable to resolve host server2: Name or service not known\n",
      " \u001b[0m"
     ]
    }
   ],
   "source": [
    "server2.upload_file('test_PSA_2.p4','test.p4')\n",
    "server2.upload_file('test.cli','test.cli')\n",
    "server2.upload_file('ethdev.io','ethdev.io')\n",
    "stdout, stderr = server2.execute(f'sudo p4c-dpdk --arch=psa test.p4 -o test.spec && sudo cp test.spec dpdk/examples/pipeline/examples/ && sudo cp ethdev.io dpdk/examples/pipeline/examples/ ')\n",
    "stdout, stderr = server2.execute(f'sudo cp test.cli dpdk/examples/pipeline/examples/')"
   ]
  },
  {
   "cell_type": "markdown",
   "id": "a7e4e472-4a62-4c46-94fa-3ee8fdaa9abb",
   "metadata": {
    "jp-MarkdownHeadingCollapsed": true,
    "tags": []
   },
   "source": [
    "## To upload and compile PNA P4 example: test_PNA.p4"
   ]
  },
  {
   "cell_type": "code",
   "execution_count": 11,
   "id": "1f6c6bbc-fbeb-43ae-b560-fdddabcaf993",
   "metadata": {},
   "outputs": [
    {
     "name": "stdout",
     "output_type": "stream",
     "text": [
      "\u001b[31m sudo: unable to resolve host server2: Name or service not known\n",
      "sudo: unable to resolve host server2: Name or service not known\n",
      "sudo: unable to resolve host server2: Name or service not known\n",
      " \u001b[0m\u001b[31m sudo: unable to resolve host server2: Name or service not known\n",
      " \u001b[0m"
     ]
    }
   ],
   "source": [
    "server2.upload_file('test_PNA.p4','test.p4')\n",
    "server2.upload_file('test.cli','test.cli')\n",
    "server2.upload_file('ethdev.io','ethdev.io')\n",
    "stdout, stderr = server2.execute(f'sudo p4c-dpdk --arch=pna test.p4 -o test.spec && sudo cp test.spec dpdk/examples/pipeline/examples/ && sudo cp ethdev.io dpdk/examples/pipeline/examples/ ')\n",
    "stdout, stderr = server2.execute(f'sudo cp test.cli dpdk/examples/pipeline/examples/')"
   ]
  },
  {
   "cell_type": "markdown",
   "id": "0ad19863-2b20-46c8-91dd-cae83b343327",
   "metadata": {
    "jp-MarkdownHeadingCollapsed": true,
    "tags": []
   },
   "source": [
    "## To upload and compile cms: cms.p4"
   ]
  },
  {
   "cell_type": "code",
   "execution_count": 47,
   "id": "db0bf408-ad24-4384-bde0-5baa73f42471",
   "metadata": {},
   "outputs": [
    {
     "name": "stdout",
     "output_type": "stream",
     "text": [
      "\u001b[31m sudo: unable to resolve host server2: Name or service not known\n",
      " \u001b[0m\u001b[31m sudo: unable to resolve host server2: Name or service not known\n",
      " \u001b[0m\u001b[31m sudo: unable to resolve host server2: Name or service not known\n",
      " \u001b[0m\u001b[31m sudo: unable to resolve host server2: Name or service not known\n",
      " \u001b[0m\u001b[31m sudo: unable to resolve host server2: Name or service not known\n",
      "sudo: unable to resolve host server2: Name or service not known\n",
      " \u001b[0m\u001b[31m sudo: unable to resolve host server2: Name or service not known\n",
      " \u001b[0m"
     ]
    }
   ],
   "source": [
    "server2.upload_file('cms_optimal.p4','test.p4')\n",
    "server2.upload_file('test.cli','test.cli')\n",
    "server2.upload_file('ethdev.io','ethdev.io')\n",
    "stdout, stderr = server2.execute(f'sudo p4c-dpdk --arch=pna test.p4 -o test.spec && sudo cp test.spec dpdk/examples/pipeline/examples/ && sudo cp ethdev.io dpdk/examples/pipeline/examples/ ')\n",
    "stdout, stderr = server2.execute(f'sudo cp test.cli dpdk/examples/pipeline/examples/')"
   ]
  },
  {
   "cell_type": "markdown",
   "id": "7b0a230a-6dfc-4d80-a361-37befd8f5af8",
   "metadata": {
    "jp-MarkdownHeadingCollapsed": true,
    "tags": []
   },
   "source": [
    "## To upload and compile cms different hashes: cms_hx.p4"
   ]
  },
  {
   "cell_type": "code",
   "execution_count": 24,
   "id": "aa6019a2-4eaa-4b80-a5ed-36a910e03d9d",
   "metadata": {},
   "outputs": [
    {
     "name": "stdout",
     "output_type": "stream",
     "text": [
      "\u001b[31m sudo: unable to resolve host server2: Name or service not known\n",
      " \u001b[0m\u001b[31m sudo: unable to resolve host server2: Name or service not known\n",
      " \u001b[0m\u001b[31m sudo: unable to resolve host server2: Name or service not known\n",
      "sudo: unable to resolve host server2: Name or service not known\n",
      " \u001b[0m\u001b[31m sudo: unable to resolve host server2: Name or service not known\n",
      " \u001b[0m"
     ]
    }
   ],
   "source": [
    "server2.upload_file('cms_h8.p4','test.p4')\n",
    "server2.upload_file('multicore/2cores/test.cli','test.cli')\n",
    "\n",
    "server2.upload_file('multicore/2cores/ethdev.io','ethdev.io')\n",
    "server2.upload_file('multicore/2cores/ethdev2.io','ethdev2.io')\n",
    "\n",
    "stdout, stderr = server2.execute(f'sudo cp ethdev.io dpdk/examples/pipeline/examples/')\n",
    "stdout, stderr = server2.execute(f'sudo cp ethdev2.io dpdk/examples/pipeline/examples/')\n",
    "\n",
    "stdout, stderr = server2.execute(f'sudo p4c-dpdk --arch=pna test.p4 -o test.spec && sudo cp test.spec dpdk/examples/pipeline/examples/')\n",
    "stdout, stderr = server2.execute(f'sudo cp test.cli dpdk/examples/pipeline/examples/')"
   ]
  },
  {
   "cell_type": "code",
   "execution_count": 37,
   "id": "5f801358-0376-410e-91c1-a1fd66ac9426",
   "metadata": {},
   "outputs": [
    {
     "name": "stdout",
     "output_type": "stream",
     "text": [
      "\u001b[31m sudo: unable to resolve host server2: Name or service not known\n",
      " \u001b[0m\u001b[31m sudo: unable to resolve host server2: Name or service not known\n",
      " \u001b[0m\u001b[31m sudo: unable to resolve host server2: Name or service not known\n",
      " \u001b[0m\u001b[31m sudo: unable to resolve host server2: Name or service not known\n",
      " \u001b[0m\u001b[31m sudo: unable to resolve host server2: Name or service not known\n",
      "sudo: unable to resolve host server2: Name or service not known\n",
      " \u001b[0m\u001b[31m sudo: unable to resolve host server2: Name or service not known\n",
      " \u001b[0m"
     ]
    }
   ],
   "source": [
    "server2.upload_file('cms_h5.p4','test.p4')\n",
    "server2.upload_file('multicore/4cores/test.cli','test.cli')\n",
    "\n",
    "server2.upload_file('multicore/4cores/ethdev.io','ethdev.io')\n",
    "server2.upload_file('multicore/4cores/ethdev2.io','ethdev2.io')\n",
    "server2.upload_file('multicore/4cores/ethdev3.io','ethdev3.io')\n",
    "server2.upload_file('multicore/4cores/ethdev4.io','ethdev4.io')\n",
    "\n",
    "stdout, stderr = server2.execute(f'sudo cp ethdev.io dpdk/examples/pipeline/examples/')\n",
    "stdout, stderr = server2.execute(f'sudo cp ethdev2.io dpdk/examples/pipeline/examples/')\n",
    "stdout, stderr = server2.execute(f'sudo cp ethdev3.io dpdk/examples/pipeline/examples/')\n",
    "stdout, stderr = server2.execute(f'sudo cp ethdev4.io dpdk/examples/pipeline/examples/')\n",
    "\n",
    "stdout, stderr = server2.execute(f'sudo p4c-dpdk --arch=pna test.p4 -o test.spec && sudo cp test.spec dpdk/examples/pipeline/examples/')\n",
    "stdout, stderr = server2.execute(f'sudo cp test.cli dpdk/examples/pipeline/examples/')"
   ]
  },
  {
   "cell_type": "markdown",
   "id": "3148afdc-6dbe-4cda-b697-7ad5b2a4ab1b",
   "metadata": {},
   "source": [
    "## To upload and compile 4cores cms: cms.p4"
   ]
  },
  {
   "cell_type": "code",
   "execution_count": 2,
   "id": "ab82e08c-e21a-4d6c-8d71-09bac4c37a00",
   "metadata": {},
   "outputs": [
    {
     "name": "stdout",
     "output_type": "stream",
     "text": [
      "\u001b[31m sudo: unable to resolve host server2: Name or service not known\n",
      " \u001b[0m\u001b[31m sudo: unable to resolve host server2: Name or service not known\n",
      " \u001b[0m\u001b[31m sudo: unable to resolve host server2: Name or service not known\n",
      " \u001b[0m\u001b[31m sudo: unable to resolve host server2: Name or service not known\n",
      " \u001b[0m\u001b[31m sudo: unable to resolve host server2: Name or service not known\n",
      "sudo: unable to resolve host server2: Name or service not known\n",
      " \u001b[0m\u001b[31m sudo: unable to resolve host server2: Name or service not known\n",
      " \u001b[0m"
     ]
    }
   ],
   "source": [
    "server2.upload_file('cms_optimal.p4','test.p4')\n",
    "server2.upload_file('multicore/4cores/test.cli','test.cli')\n",
    "\n",
    "server2.upload_file('multicore/4cores/ethdev.io','ethdev.io')\n",
    "server2.upload_file('multicore/4cores/ethdev2.io','ethdev2.io')\n",
    "server2.upload_file('multicore/4cores/ethdev3.io','ethdev3.io')\n",
    "server2.upload_file('multicore/4cores/ethdev4.io','ethdev4.io')\n",
    "\n",
    "stdout, stderr = server2.execute(f'sudo cp ethdev.io dpdk/examples/pipeline/examples/')\n",
    "stdout, stderr = server2.execute(f'sudo cp ethdev2.io dpdk/examples/pipeline/examples/')\n",
    "stdout, stderr = server2.execute(f'sudo cp ethdev3.io dpdk/examples/pipeline/examples/')\n",
    "stdout, stderr = server2.execute(f'sudo cp ethdev4.io dpdk/examples/pipeline/examples/')\n",
    "\n",
    "stdout, stderr = server2.execute(f'sudo p4c-dpdk --arch=pna test.p4 -o test.spec && sudo cp test.spec dpdk/examples/pipeline/examples/')\n",
    "stdout, stderr = server2.execute(f'sudo cp test.cli dpdk/examples/pipeline/examples/')"
   ]
  },
  {
   "cell_type": "markdown",
   "id": "670b4fd0-e139-4f8a-b16a-8d46af286af8",
   "metadata": {},
   "source": [
    "<br> \n",
    "<br>\n",
    "<br>\n",
    "<br>\n",
    "<br>\n",
    "<br> \n",
    "<br>\n",
    "<br>\n",
    "<br>\n",
    "<br>\n",
    "<br> \n",
    "<br>\n",
    "<br>\n",
    "<br>\n",
    "<br>\n",
    "<br> \n",
    "<br>\n",
    "<br>\n",
    "<br>\n",
    "<br>\n",
    "<br> \n",
    "<br>\n",
    "<br>\n",
    "<br>\n",
    "<br>\n",
    "<br> \n",
    "<br>\n",
    "<br>\n",
    "<br>\n",
    "<br>\n",
    "  "
   ]
  },
  {
   "cell_type": "markdown",
   "id": "78d9953b-6d66-4044-9aac-55ee9d26938d",
   "metadata": {
    "jp-MarkdownHeadingCollapsed": true,
    "tags": []
   },
   "source": [
    "## To upload and compile multicore test: cms_optimal.p4"
   ]
  },
  {
   "cell_type": "markdown",
   "id": "60486c3f-f094-4270-a002-3d36e27ad251",
   "metadata": {},
   "source": [
    "1 core 1 pipeline"
   ]
  },
  {
   "cell_type": "code",
   "execution_count": 6,
   "id": "77e7f951-e93c-4a10-9a26-8ef9616fd389",
   "metadata": {},
   "outputs": [
    {
     "name": "stdout",
     "output_type": "stream",
     "text": [
      "\u001b[31m sudo: unable to resolve host server2: Name or service not known\n",
      " \u001b[0m\u001b[31m sudo: unable to resolve host server2: Name or service not known\n",
      "sudo: unable to resolve host server2: Name or service not known\n",
      " \u001b[0m\u001b[31m sudo: unable to resolve host server2: Name or service not known\n",
      " \u001b[0m"
     ]
    }
   ],
   "source": [
    "server2.upload_file('cms_optimal.p4','test.p4')\n",
    "server2.upload_file('multicore/1core/test.cli','test.cli')\n",
    "\n",
    "server2.upload_file('multicore/1core/ethdev.io','ethdev.io')\n",
    "\n",
    "stdout, stderr = server2.execute(f'sudo cp ethdev.io dpdk/examples/pipeline/examples/')\n",
    "\n",
    "stdout, stderr = server2.execute(f'sudo p4c-dpdk --arch=pna test.p4 -o test.spec && sudo cp test.spec dpdk/examples/pipeline/examples/')\n",
    "stdout, stderr = server2.execute(f'sudo cp test.cli dpdk/examples/pipeline/examples/')"
   ]
  },
  {
   "cell_type": "markdown",
   "id": "9d81536c-0e7c-42c1-b9a2-0856888ed2bb",
   "metadata": {},
   "source": [
    "2 cores 2 pipelines"
   ]
  },
  {
   "cell_type": "code",
   "execution_count": 4,
   "id": "bc731325-d750-4b04-ad01-d967a7db01b8",
   "metadata": {},
   "outputs": [
    {
     "name": "stdout",
     "output_type": "stream",
     "text": [
      "\u001b[31m sudo: unable to resolve host server2: Name or service not known\n",
      " \u001b[0m\u001b[31m sudo: unable to resolve host server2: Name or service not known\n",
      " \u001b[0m\u001b[31m sudo: unable to resolve host server2: Name or service not known\n",
      "sudo: unable to resolve host server2: Name or service not known\n",
      " \u001b[0m\u001b[31m sudo: unable to resolve host server2: Name or service not known\n",
      " \u001b[0m"
     ]
    }
   ],
   "source": [
    "server2.upload_file('cms_optimal.p4','test.p4')\n",
    "server2.upload_file('multicore/2cores/test.cli','test.cli')\n",
    "\n",
    "server2.upload_file('multicore/2cores/ethdev.io','ethdev.io')\n",
    "server2.upload_file('multicore/2cores/ethdev2.io','ethdev2.io')\n",
    "\n",
    "stdout, stderr = server2.execute(f'sudo cp ethdev.io dpdk/examples/pipeline/examples/')\n",
    "stdout, stderr = server2.execute(f'sudo cp ethdev2.io dpdk/examples/pipeline/examples/')\n",
    "\n",
    "stdout, stderr = server2.execute(f'sudo p4c-dpdk --arch=pna test.p4 -o test.spec && sudo cp test.spec dpdk/examples/pipeline/examples/')\n",
    "stdout, stderr = server2.execute(f'sudo cp test.cli dpdk/examples/pipeline/examples/')"
   ]
  },
  {
   "cell_type": "markdown",
   "id": "37f209dc-b034-43d4-bfc9-f409bcc85c4e",
   "metadata": {},
   "source": [
    "3 cores 3 pipelines"
   ]
  },
  {
   "cell_type": "code",
   "execution_count": 8,
   "id": "56d32a22-a8f0-4099-9437-8068ba4cc39d",
   "metadata": {},
   "outputs": [
    {
     "name": "stdout",
     "output_type": "stream",
     "text": [
      "\u001b[31m sudo: unable to resolve host server2: Name or service not known\n",
      " \u001b[0m\u001b[31m sudo: unable to resolve host server2: Name or service not known\n",
      " \u001b[0m\u001b[31m sudo: unable to resolve host server2: Name or service not known\n",
      " \u001b[0m\u001b[31m sudo: unable to resolve host server2: Name or service not known\n",
      "sudo: unable to resolve host server2: Name or service not known\n",
      " \u001b[0m\u001b[31m sudo: unable to resolve host server2: Name or service not known\n",
      " \u001b[0m"
     ]
    }
   ],
   "source": [
    "server2.upload_file('cms_optimal.p4','test.p4')\n",
    "server2.upload_file('multicore/3cores/test.cli','test.cli')\n",
    "\n",
    "server2.upload_file('multicore/3cores/ethdev.io','ethdev.io')\n",
    "server2.upload_file('multicore/3cores/ethdev2.io','ethdev2.io')\n",
    "server2.upload_file('multicore/3cores/ethdev3.io','ethdev3.io')\n",
    "\n",
    "stdout, stderr = server2.execute(f'sudo cp ethdev.io dpdk/examples/pipeline/examples/')\n",
    "stdout, stderr = server2.execute(f'sudo cp ethdev2.io dpdk/examples/pipeline/examples/')\n",
    "stdout, stderr = server2.execute(f'sudo cp ethdev3.io dpdk/examples/pipeline/examples/')\n",
    "\n",
    "stdout, stderr = server2.execute(f'sudo p4c-dpdk --arch=pna test.p4 -o test.spec && sudo cp test.spec dpdk/examples/pipeline/examples/')\n",
    "stdout, stderr = server2.execute(f'sudo cp test.cli dpdk/examples/pipeline/examples/')"
   ]
  },
  {
   "cell_type": "markdown",
   "id": "2070fe88-6a37-4d8c-9383-5cf8570f2364",
   "metadata": {},
   "source": [
    "4 cores 4 pipelines"
   ]
  },
  {
   "cell_type": "code",
   "execution_count": 3,
   "id": "3cce16ea-c667-4574-919e-3b780ac19f20",
   "metadata": {},
   "outputs": [
    {
     "name": "stdout",
     "output_type": "stream",
     "text": [
      "\u001b[31m sudo: unable to resolve host server2: Name or service not known\n",
      " \u001b[0m\u001b[31m sudo: unable to resolve host server2: Name or service not known\n",
      " \u001b[0m\u001b[31m sudo: unable to resolve host server2: Name or service not known\n",
      " \u001b[0m\u001b[31m sudo: unable to resolve host server2: Name or service not known\n",
      " \u001b[0m\u001b[31m sudo: unable to resolve host server2: Name or service not known\n",
      "sudo: unable to resolve host server2: Name or service not known\n",
      " \u001b[0m\u001b[31m sudo: unable to resolve host server2: Name or service not known\n",
      " \u001b[0m"
     ]
    }
   ],
   "source": [
    "server2.upload_file('cms_optimal.p4','test.p4')\n",
    "server2.upload_file('multicore/4cores/test.cli','test.cli')\n",
    "\n",
    "server2.upload_file('multicore/4cores/ethdev.io','ethdev.io')\n",
    "server2.upload_file('multicore/4cores/ethdev2.io','ethdev2.io')\n",
    "server2.upload_file('multicore/4cores/ethdev3.io','ethdev3.io')\n",
    "server2.upload_file('multicore/4cores/ethdev4.io','ethdev4.io')\n",
    "\n",
    "stdout, stderr = server2.execute(f'sudo cp ethdev.io dpdk/examples/pipeline/examples/')\n",
    "stdout, stderr = server2.execute(f'sudo cp ethdev2.io dpdk/examples/pipeline/examples/')\n",
    "stdout, stderr = server2.execute(f'sudo cp ethdev3.io dpdk/examples/pipeline/examples/')\n",
    "stdout, stderr = server2.execute(f'sudo cp ethdev4.io dpdk/examples/pipeline/examples/')\n",
    "\n",
    "stdout, stderr = server2.execute(f'sudo p4c-dpdk --arch=pna test.p4 -o test.spec && sudo cp test.spec dpdk/examples/pipeline/examples/')\n",
    "stdout, stderr = server2.execute(f'sudo cp test.cli dpdk/examples/pipeline/examples/')"
   ]
  },
  {
   "cell_type": "markdown",
   "id": "11739f99-1971-4992-9f58-3484122e7147",
   "metadata": {},
   "source": [
    "5 cores 5 pipelines"
   ]
  },
  {
   "cell_type": "code",
   "execution_count": 15,
   "id": "eba49ab8-bfbc-467d-bd00-f1bbed718067",
   "metadata": {},
   "outputs": [
    {
     "name": "stdout",
     "output_type": "stream",
     "text": [
      "\u001b[31m sudo: unable to resolve host server2: Name or service not known\n",
      " \u001b[0m\u001b[31m sudo: unable to resolve host server2: Name or service not known\n",
      " \u001b[0m\u001b[31m sudo: unable to resolve host server2: Name or service not known\n",
      " \u001b[0m\u001b[31m sudo: unable to resolve host server2: Name or service not known\n",
      " \u001b[0m\u001b[31m sudo: unable to resolve host server2: Name or service not known\n",
      " \u001b[0m\u001b[31m sudo: unable to resolve host server2: Name or service not known\n",
      "sudo: unable to resolve host server2: Name or service not known\n",
      " \u001b[0m\u001b[31m sudo: unable to resolve host server2: Name or service not known\n",
      " \u001b[0m"
     ]
    }
   ],
   "source": [
    "server2.upload_file('cms_optimal.p4','test.p4')\n",
    "server2.upload_file('multicore/5cores/test.cli','test.cli')\n",
    "\n",
    "server2.upload_file('multicore/5cores/ethdev.io','ethdev.io')\n",
    "server2.upload_file('multicore/5cores/ethdev2.io','ethdev2.io')\n",
    "server2.upload_file('multicore/5cores/ethdev3.io','ethdev3.io')\n",
    "server2.upload_file('multicore/5cores/ethdev4.io','ethdev4.io')\n",
    "server2.upload_file('multicore/5cores/ethdev5.io','ethdev5.io')\n",
    "\n",
    "stdout, stderr = server2.execute(f'sudo cp ethdev.io dpdk/examples/pipeline/examples/')\n",
    "stdout, stderr = server2.execute(f'sudo cp ethdev2.io dpdk/examples/pipeline/examples/')\n",
    "stdout, stderr = server2.execute(f'sudo cp ethdev3.io dpdk/examples/pipeline/examples/')\n",
    "stdout, stderr = server2.execute(f'sudo cp ethdev4.io dpdk/examples/pipeline/examples/')\n",
    "stdout, stderr = server2.execute(f'sudo cp ethdev5.io dpdk/examples/pipeline/examples/')\n",
    "\n",
    "stdout, stderr = server2.execute(f'sudo p4c-dpdk --arch=pna test.p4 -o test.spec && sudo cp test.spec dpdk/examples/pipeline/examples/')\n",
    "stdout, stderr = server2.execute(f'sudo cp test.cli dpdk/examples/pipeline/examples/')"
   ]
  },
  {
   "cell_type": "markdown",
   "id": "6a3fb58e-4f05-4dc5-84d3-659f88123e4c",
   "metadata": {},
   "source": [
    "6 cores 6 pipelines"
   ]
  },
  {
   "cell_type": "code",
   "execution_count": 16,
   "id": "66590838-e2bc-4896-96fb-279f26edf8d3",
   "metadata": {},
   "outputs": [
    {
     "name": "stdout",
     "output_type": "stream",
     "text": [
      "\u001b[31m sudo: unable to resolve host server2: Name or service not known\n",
      " \u001b[0m\u001b[31m sudo: unable to resolve host server2: Name or service not known\n",
      " \u001b[0m\u001b[31m sudo: unable to resolve host server2: Name or service not known\n",
      " \u001b[0m\u001b[31m sudo: unable to resolve host server2: Name or service not known\n",
      " \u001b[0m\u001b[31m sudo: unable to resolve host server2: Name or service not known\n",
      " \u001b[0m\u001b[31m sudo: unable to resolve host server2: Name or service not known\n",
      " \u001b[0m\u001b[31m sudo: unable to resolve host server2: Name or service not known\n",
      "sudo: unable to resolve host server2: Name or service not known\n",
      " \u001b[0m\u001b[31m sudo: unable to resolve host server2: Name or service not known\n",
      " \u001b[0m"
     ]
    }
   ],
   "source": [
    "server2.upload_file('cms_optimal.p4','test.p4')\n",
    "server2.upload_file('multicore/6cores/test.cli','test.cli')\n",
    "\n",
    "server2.upload_file('multicore/6cores/ethdev.io','ethdev.io')\n",
    "server2.upload_file('multicore/6cores/ethdev2.io','ethdev2.io')\n",
    "server2.upload_file('multicore/6cores/ethdev3.io','ethdev3.io')\n",
    "server2.upload_file('multicore/6cores/ethdev4.io','ethdev4.io')\n",
    "server2.upload_file('multicore/6cores/ethdev5.io','ethdev5.io')\n",
    "server2.upload_file('multicore/6cores/ethdev6.io','ethdev6.io')\n",
    "\n",
    "stdout, stderr = server2.execute(f'sudo cp ethdev.io dpdk/examples/pipeline/examples/')\n",
    "stdout, stderr = server2.execute(f'sudo cp ethdev2.io dpdk/examples/pipeline/examples/')\n",
    "stdout, stderr = server2.execute(f'sudo cp ethdev3.io dpdk/examples/pipeline/examples/')\n",
    "stdout, stderr = server2.execute(f'sudo cp ethdev4.io dpdk/examples/pipeline/examples/')\n",
    "stdout, stderr = server2.execute(f'sudo cp ethdev5.io dpdk/examples/pipeline/examples/')\n",
    "stdout, stderr = server2.execute(f'sudo cp ethdev6.io dpdk/examples/pipeline/examples/')\n",
    "\n",
    "stdout, stderr = server2.execute(f'sudo p4c-dpdk --arch=pna test.p4 -o test.spec && sudo cp test.spec dpdk/examples/pipeline/examples/')\n",
    "stdout, stderr = server2.execute(f'sudo cp test.cli dpdk/examples/pipeline/examples/')"
   ]
  },
  {
   "cell_type": "markdown",
   "id": "c78bf76a-49cf-4285-9b3d-8c82a2a58c77",
   "metadata": {},
   "source": [
    "7 cores 7 pipelines"
   ]
  },
  {
   "cell_type": "code",
   "execution_count": 17,
   "id": "2e94b257-a07f-44b0-b346-b5bdbc29aa90",
   "metadata": {},
   "outputs": [
    {
     "name": "stdout",
     "output_type": "stream",
     "text": [
      "\u001b[31m sudo: unable to resolve host server2: Name or service not known\n",
      " \u001b[0m\u001b[31m sudo: unable to resolve host server2: Name or service not known\n",
      " \u001b[0m\u001b[31m sudo: unable to resolve host server2: Name or service not known\n",
      " \u001b[0m\u001b[31m sudo: unable to resolve host server2: Name or service not known\n",
      " \u001b[0m\u001b[31m sudo: unable to resolve host server2: Name or service not known\n",
      " \u001b[0m\u001b[31m sudo: unable to resolve host server2: Name or service not known\n",
      " \u001b[0m\u001b[31m sudo: unable to resolve host server2: Name or service not known\n",
      " \u001b[0m\u001b[31m sudo: unable to resolve host server2: Name or service not known\n",
      "sudo: unable to resolve host server2: Name or service not known\n",
      " \u001b[0m\u001b[31m sudo: unable to resolve host server2: Name or service not known\n",
      " \u001b[0m"
     ]
    }
   ],
   "source": [
    "server2.upload_file('cms_optimal.p4','test.p4')\n",
    "server2.upload_file('multicore/7cores/test.cli','test.cli')\n",
    "\n",
    "server2.upload_file('multicore/7cores/ethdev.io','ethdev.io')\n",
    "server2.upload_file('multicore/7cores/ethdev2.io','ethdev2.io')\n",
    "server2.upload_file('multicore/7cores/ethdev3.io','ethdev3.io')\n",
    "server2.upload_file('multicore/7cores/ethdev4.io','ethdev4.io')\n",
    "server2.upload_file('multicore/7cores/ethdev5.io','ethdev5.io')\n",
    "server2.upload_file('multicore/7cores/ethdev6.io','ethdev6.io')\n",
    "server2.upload_file('multicore/7cores/ethdev7.io','ethdev7.io')\n",
    "\n",
    "stdout, stderr = server2.execute(f'sudo cp ethdev.io dpdk/examples/pipeline/examples/')\n",
    "stdout, stderr = server2.execute(f'sudo cp ethdev2.io dpdk/examples/pipeline/examples/')\n",
    "stdout, stderr = server2.execute(f'sudo cp ethdev3.io dpdk/examples/pipeline/examples/')\n",
    "stdout, stderr = server2.execute(f'sudo cp ethdev4.io dpdk/examples/pipeline/examples/')\n",
    "stdout, stderr = server2.execute(f'sudo cp ethdev5.io dpdk/examples/pipeline/examples/')\n",
    "stdout, stderr = server2.execute(f'sudo cp ethdev6.io dpdk/examples/pipeline/examples/')\n",
    "stdout, stderr = server2.execute(f'sudo cp ethdev7.io dpdk/examples/pipeline/examples/')\n",
    "\n",
    "stdout, stderr = server2.execute(f'sudo p4c-dpdk --arch=pna test.p4 -o test.spec && sudo cp test.spec dpdk/examples/pipeline/examples/')\n",
    "stdout, stderr = server2.execute(f'sudo cp test.cli dpdk/examples/pipeline/examples/')"
   ]
  },
  {
   "cell_type": "markdown",
   "id": "066a05f3-4e27-42e4-8734-94538e5e1471",
   "metadata": {},
   "source": [
    "8 cores 8 pipelines"
   ]
  },
  {
   "cell_type": "code",
   "execution_count": 18,
   "id": "be23a512-bc8a-41ba-8a66-6ab6b3bfc979",
   "metadata": {},
   "outputs": [
    {
     "name": "stdout",
     "output_type": "stream",
     "text": [
      "\u001b[31m sudo: unable to resolve host server2: Name or service not known\n",
      " \u001b[0m\u001b[31m sudo: unable to resolve host server2: Name or service not known\n",
      " \u001b[0m\u001b[31m sudo: unable to resolve host server2: Name or service not known\n",
      " \u001b[0m\u001b[31m sudo: unable to resolve host server2: Name or service not known\n",
      " \u001b[0m\u001b[31m sudo: unable to resolve host server2: Name or service not known\n",
      " \u001b[0m\u001b[31m sudo: unable to resolve host server2: Name or service not known\n",
      " \u001b[0m\u001b[31m sudo: unable to resolve host server2: Name or service not known\n",
      " \u001b[0m\u001b[31m sudo: unable to resolve host server2: Name or service not known\n",
      " \u001b[0m\u001b[31m sudo: unable to resolve host server2: Name or service not known\n",
      "sudo: unable to resolve host server2: Name or service not known\n",
      " \u001b[0m\u001b[31m sudo: unable to resolve host server2: Name or service not known\n",
      " \u001b[0m"
     ]
    }
   ],
   "source": [
    "server2.upload_file('cms_optimal.p4','test.p4')\n",
    "server2.upload_file('multicore/8cores/test.cli','test.cli')\n",
    "\n",
    "server2.upload_file('multicore/8cores/ethdev.io','ethdev.io')\n",
    "server2.upload_file('multicore/8cores/ethdev2.io','ethdev2.io')\n",
    "server2.upload_file('multicore/8cores/ethdev3.io','ethdev3.io')\n",
    "server2.upload_file('multicore/8cores/ethdev4.io','ethdev4.io')\n",
    "server2.upload_file('multicore/8cores/ethdev5.io','ethdev5.io')\n",
    "server2.upload_file('multicore/8cores/ethdev6.io','ethdev6.io')\n",
    "server2.upload_file('multicore/8cores/ethdev7.io','ethdev7.io')\n",
    "server2.upload_file('multicore/8cores/ethdev8.io','ethdev8.io')\n",
    "\n",
    "stdout, stderr = server2.execute(f'sudo cp ethdev.io dpdk/examples/pipeline/examples/')\n",
    "stdout, stderr = server2.execute(f'sudo cp ethdev2.io dpdk/examples/pipeline/examples/')\n",
    "stdout, stderr = server2.execute(f'sudo cp ethdev3.io dpdk/examples/pipeline/examples/')\n",
    "stdout, stderr = server2.execute(f'sudo cp ethdev4.io dpdk/examples/pipeline/examples/')\n",
    "stdout, stderr = server2.execute(f'sudo cp ethdev5.io dpdk/examples/pipeline/examples/')\n",
    "stdout, stderr = server2.execute(f'sudo cp ethdev6.io dpdk/examples/pipeline/examples/')\n",
    "stdout, stderr = server2.execute(f'sudo cp ethdev7.io dpdk/examples/pipeline/examples/')\n",
    "stdout, stderr = server2.execute(f'sudo cp ethdev8.io dpdk/examples/pipeline/examples/')\n",
    "\n",
    "stdout, stderr = server2.execute(f'sudo p4c-dpdk --arch=pna test.p4 -o test.spec && sudo cp test.spec dpdk/examples/pipeline/examples/')\n",
    "stdout, stderr = server2.execute(f'sudo cp test.cli dpdk/examples/pipeline/examples/')"
   ]
  },
  {
   "cell_type": "markdown",
   "id": "2375f3aa-cf44-4c45-ba09-881a87d5c24f",
   "metadata": {},
   "source": [
    "# Step 7: Running the DPDK application on the SmartNIC"
   ]
  },
  {
   "cell_type": "markdown",
   "id": "69d7a6bb-f5df-4ff2-a546-347260582d11",
   "metadata": {},
   "source": [
    "## These commands should be exectided in the terminals"
   ]
  },
  {
   "cell_type": "markdown",
   "id": "f94e294a-d52b-4a16-ab96-7f40b36a9f57",
   "metadata": {},
   "source": [
    "Make sure to export RTE_INSTALL_DIR=/home/ubuntu/dpdk (ask)"
   ]
  },
  {
   "cell_type": "code",
   "execution_count": 50,
   "id": "dc2aeba7-0a18-4c73-b483-d0b4b40b5b71",
   "metadata": {},
   "outputs": [],
   "source": [
    "# stdout, stderr = server1.execute(f'cd dpdk && sudo examples/pipeline/build/pipeline -c 0xF -- -s examples/pipeline/examples/test.cli')"
   ]
  },
  {
   "cell_type": "markdown",
   "id": "f9a1e6f1-430f-4542-8e88-bc59aee45166",
   "metadata": {},
   "source": [
    "### Run Pktgen in server 1"
   ]
  },
  {
   "cell_type": "code",
   "execution_count": null,
   "id": "169a9dca-74ea-4e64-9e9e-cbe31434d565",
   "metadata": {},
   "outputs": [],
   "source": [
    "stdout, stderr = server1.execute(f'sudo sudo pktgen -l 0-3 -n 3 -- -P -m \"1.0\"')"
   ]
  },
  {
   "cell_type": "code",
   "execution_count": null,
   "id": "6e80c9e0-3c6a-4b2a-802b-53cc39163999",
   "metadata": {},
   "outputs": [],
   "source": [
    "# stdout, stderr = server1.execute(f'sudo pktgen -l 0-8 -n 7 -- -p -m \"[1:7].0\"')"
   ]
  },
  {
   "cell_type": "code",
   "execution_count": null,
   "id": "db4db67d-1703-4086-800d-a4de107bca6f",
   "metadata": {},
   "outputs": [],
   "source": [
    "# sudo sysctl -w vm.nr_hugepages=102400\n",
    "# sudo su\n",
    "# echo 32768 > /proc/sys/vm/nr_hugepages\n",
    "# exit\n",
    "# sudo pktgen -c 0x1F -- -P -m \"[1-4].0\"\n",
    "stdout, stderr = server1.execute(f'sudo pktgen -c 0xF -- -P -m \"[1-4].0\"')"
   ]
  },
  {
   "cell_type": "markdown",
   "id": "9337beb1-9fc1-4d18-b36e-29aed3e93729",
   "metadata": {},
   "source": [
    "In Pktgen set mac ip and packet size\n",
    "\n",
    "source mac: set 0 src mac {mac address}\n",
    "\n",
    "destination mac: set 0 dst mac {mac address}\n",
    "\n",
    "source ip: set 0 src ip {ip address}\n",
    "\n",
    "destination ip: set 0 dst ip {ip address}\n",
    "\n",
    "packet size: set 0 size {packet size}\n",
    "\n",
    "%Rate out of 100 Gbps: set 0 rate {rate/100}\n",
    "\n",
    "strat 0\n",
    "stop 0"
   ]
  },
  {
   "cell_type": "markdown",
   "id": "4b01c96c-b858-46c8-a411-2d242b72fc5f",
   "metadata": {},
   "source": [
    "### Run pipeline in server 2"
   ]
  },
  {
   "cell_type": "code",
   "execution_count": null,
   "id": "ab8eb815-4209-472f-b4d4-59591e722b67",
   "metadata": {},
   "outputs": [],
   "source": [
    "stdout, stderr = server2.execute(f'cd dpdk')"
   ]
  },
  {
   "cell_type": "code",
   "execution_count": null,
   "id": "6525b92b-b343-47ec-951d-5d05df736096",
   "metadata": {},
   "outputs": [],
   "source": [
    "stdout, stderr = server2.execute(f'sudo examples/pipeline/build/pipeline -c 0xF -- -s examples/pipeline/examples/test.cli')"
   ]
  },
  {
   "cell_type": "code",
   "execution_count": null,
   "id": "4f9e56a5-2a1a-426b-9a91-e17da30b4da6",
   "metadata": {},
   "outputs": [],
   "source": [
    "stdout, stderr = server2.execute(f'sudo examples/pipeline/build/pipeline -c 0x1F -- -s examples/pipeline/examples/test.cli')"
   ]
  },
  {
   "cell_type": "markdown",
   "id": "a08becd3-f21f-40ea-a784-0090224d40dd",
   "metadata": {},
   "source": [
    "t2 >> telnet 0.0.0.0 8086\n",
    "\n",
    "pipeline >> ethdev show\n",
    "ethtool -S eth0 | grep -E 'tx_packets|rx_packets'"
   ]
  },
  {
   "cell_type": "markdown",
   "id": "9c2a72ac-8618-4720-ad1e-a29b5c4bd773",
   "metadata": {},
   "source": [
    "### Run in server 3 (option 1)"
   ]
  },
  {
   "cell_type": "markdown",
   "id": "60ce5890-1be0-4906-ae6a-c412b2bb2df1",
   "metadata": {},
   "source": [
    "t1 >> sudo sysctl -w net.ipv4.tcp_congestion_control=cubic >> sudo hping3 198.18.1.20 -i u10000\n",
    "\n",
    "t2 >> iperf3 -s\n",
    "\n",
    "t3 >> iperf3 -c 198.18.1.20 -t 60\n",
    "\n",
    "----\n",
    "use tcpdump to see all incomming and outgoing transactions : sudo tcpdump -i enp7s0np0"
   ]
  },
  {
   "cell_type": "markdown",
   "id": "36c26456-b325-432f-9ba1-e14c2bcccd16",
   "metadata": {},
   "source": [
    "# When the session is extended and the work needs to be resumed"
   ]
  },
  {
   "cell_type": "code",
   "execution_count": 2,
   "id": "d613776b-6a09-4094-b7db-87489a0283ff",
   "metadata": {},
   "outputs": [],
   "source": [
    "from fabrictestbed_extensions.fablib.fablib import FablibManager as fablib_manager\n",
    "fablib = fablib_manager()\n",
    "\n",
    "slice = fablib.get_slice(name=\"p4sec_fabric_samesite\")\n",
    "\n",
    "server1 = slice.get_node(name=\"server1\")\n",
    "server2 = slice.get_node(name=\"server2\")\n",
    "server3 = slice.get_node(name=\"server3\")\n",
    "\n",
    "# server1.upload_file('test.p4','test.p4')\n",
    "# server1.upload_file('test.cli','test.cli')\n",
    "# server1.upload_file('ethdev.io','ethdev.io')\n",
    "# stdout, stderr = server1.execute(f'sudo p4c-dpdk --arch=psa test.p4 -o test.spec && sudo cp test.spec dpdk/examples/pipeline/examples/ && sudo cp ethdev.io dpdk/examples/pipeline/examples/')\n",
    "# stdout, stderr = server1.execute(f'sudo cp test.cli dpdk/examples/pipeline/examples/')\n",
    "\n"
   ]
  },
  {
   "cell_type": "code",
   "execution_count": null,
   "id": "1cb25ab1-195e-4003-a4d2-9fe318078dd9",
   "metadata": {},
   "outputs": [],
   "source": []
  }
 ],
 "metadata": {
  "kernelspec": {
   "display_name": "Python 3 (ipykernel)",
   "language": "python",
   "name": "python3"
  },
  "language_info": {
   "codemirror_mode": {
    "name": "ipython",
    "version": 3
   },
   "file_extension": ".py",
   "mimetype": "text/x-python",
   "name": "python",
   "nbconvert_exporter": "python",
   "pygments_lexer": "ipython3",
   "version": "3.10.6"
  }
 },
 "nbformat": 4,
 "nbformat_minor": 5
}
